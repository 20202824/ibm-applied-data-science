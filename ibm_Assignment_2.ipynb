{
  "cells": [
    {
      "cell_type": "markdown",
      "metadata": {
        "id": "view-in-github",
        "colab_type": "text"
      },
      "source": [
        "<a href=\"https://colab.research.google.com/github/20202824/ibm-applied-data-science/blob/main/ibm_Assignment_2.ipynb\" target=\"_parent\"><img src=\"https://colab.research.google.com/assets/colab-badge.svg\" alt=\"Open In Colab\"/></a>"
      ]
    },
    {
      "cell_type": "code",
      "execution_count": 4,
      "metadata": {
        "id": "XPFPATcPVwyd"
      },
      "outputs": [],
      "source": [
        "import numpy as np\n",
        "import pandas as pd\n",
        "import matplotlib.pyplot as plt\n",
        "import seaborn as sns"
      ]
    },
    {
      "cell_type": "markdown",
      "source": [
        "LOADING THE DATASET"
      ],
      "metadata": {
        "id": "prstVYbj9eh2"
      }
    },
    {
      "cell_type": "code",
      "execution_count": 5,
      "metadata": {
        "id": "7suR0rXbV9g9"
      },
      "outputs": [],
      "source": [
        "df=pd.read_csv('/content/Housing (2).csv')"
      ]
    },
    {
      "cell_type": "code",
      "execution_count": 6,
      "metadata": {
        "colab": {
          "base_uri": "https://localhost:8080/",
          "height": 206
        },
        "id": "DUyvjBz2V-83",
        "outputId": "1bd22fda-dccb-4759-b255-4396710ba3ee"
      },
      "outputs": [
        {
          "output_type": "execute_result",
          "data": {
            "text/plain": [
              "      price  area  bedrooms  bathrooms  stories mainroad guestroom basement  \\\n",
              "0  13300000  7420         4          2        3      yes        no       no   \n",
              "1  12250000  8960         4          4        4      yes        no       no   \n",
              "2  12250000  9960         3          2        2      yes        no      yes   \n",
              "3  12215000  7500         4          2        2      yes        no      yes   \n",
              "4  11410000  7420         4          1        2      yes       yes      yes   \n",
              "\n",
              "  hotwaterheating airconditioning  parking furnishingstatus  \n",
              "0              no             yes        2        furnished  \n",
              "1              no             yes        3        furnished  \n",
              "2              no              no        2   semi-furnished  \n",
              "3              no             yes        3        furnished  \n",
              "4              no             yes        2        furnished  "
            ],
            "text/html": [
              "\n",
              "  <div id=\"df-4d9f2700-7e8b-4fdc-8b76-3cfb64653047\">\n",
              "    <div class=\"colab-df-container\">\n",
              "      <div>\n",
              "<style scoped>\n",
              "    .dataframe tbody tr th:only-of-type {\n",
              "        vertical-align: middle;\n",
              "    }\n",
              "\n",
              "    .dataframe tbody tr th {\n",
              "        vertical-align: top;\n",
              "    }\n",
              "\n",
              "    .dataframe thead th {\n",
              "        text-align: right;\n",
              "    }\n",
              "</style>\n",
              "<table border=\"1\" class=\"dataframe\">\n",
              "  <thead>\n",
              "    <tr style=\"text-align: right;\">\n",
              "      <th></th>\n",
              "      <th>price</th>\n",
              "      <th>area</th>\n",
              "      <th>bedrooms</th>\n",
              "      <th>bathrooms</th>\n",
              "      <th>stories</th>\n",
              "      <th>mainroad</th>\n",
              "      <th>guestroom</th>\n",
              "      <th>basement</th>\n",
              "      <th>hotwaterheating</th>\n",
              "      <th>airconditioning</th>\n",
              "      <th>parking</th>\n",
              "      <th>furnishingstatus</th>\n",
              "    </tr>\n",
              "  </thead>\n",
              "  <tbody>\n",
              "    <tr>\n",
              "      <th>0</th>\n",
              "      <td>13300000</td>\n",
              "      <td>7420</td>\n",
              "      <td>4</td>\n",
              "      <td>2</td>\n",
              "      <td>3</td>\n",
              "      <td>yes</td>\n",
              "      <td>no</td>\n",
              "      <td>no</td>\n",
              "      <td>no</td>\n",
              "      <td>yes</td>\n",
              "      <td>2</td>\n",
              "      <td>furnished</td>\n",
              "    </tr>\n",
              "    <tr>\n",
              "      <th>1</th>\n",
              "      <td>12250000</td>\n",
              "      <td>8960</td>\n",
              "      <td>4</td>\n",
              "      <td>4</td>\n",
              "      <td>4</td>\n",
              "      <td>yes</td>\n",
              "      <td>no</td>\n",
              "      <td>no</td>\n",
              "      <td>no</td>\n",
              "      <td>yes</td>\n",
              "      <td>3</td>\n",
              "      <td>furnished</td>\n",
              "    </tr>\n",
              "    <tr>\n",
              "      <th>2</th>\n",
              "      <td>12250000</td>\n",
              "      <td>9960</td>\n",
              "      <td>3</td>\n",
              "      <td>2</td>\n",
              "      <td>2</td>\n",
              "      <td>yes</td>\n",
              "      <td>no</td>\n",
              "      <td>yes</td>\n",
              "      <td>no</td>\n",
              "      <td>no</td>\n",
              "      <td>2</td>\n",
              "      <td>semi-furnished</td>\n",
              "    </tr>\n",
              "    <tr>\n",
              "      <th>3</th>\n",
              "      <td>12215000</td>\n",
              "      <td>7500</td>\n",
              "      <td>4</td>\n",
              "      <td>2</td>\n",
              "      <td>2</td>\n",
              "      <td>yes</td>\n",
              "      <td>no</td>\n",
              "      <td>yes</td>\n",
              "      <td>no</td>\n",
              "      <td>yes</td>\n",
              "      <td>3</td>\n",
              "      <td>furnished</td>\n",
              "    </tr>\n",
              "    <tr>\n",
              "      <th>4</th>\n",
              "      <td>11410000</td>\n",
              "      <td>7420</td>\n",
              "      <td>4</td>\n",
              "      <td>1</td>\n",
              "      <td>2</td>\n",
              "      <td>yes</td>\n",
              "      <td>yes</td>\n",
              "      <td>yes</td>\n",
              "      <td>no</td>\n",
              "      <td>yes</td>\n",
              "      <td>2</td>\n",
              "      <td>furnished</td>\n",
              "    </tr>\n",
              "  </tbody>\n",
              "</table>\n",
              "</div>\n",
              "      <button class=\"colab-df-convert\" onclick=\"convertToInteractive('df-4d9f2700-7e8b-4fdc-8b76-3cfb64653047')\"\n",
              "              title=\"Convert this dataframe to an interactive table.\"\n",
              "              style=\"display:none;\">\n",
              "        \n",
              "  <svg xmlns=\"http://www.w3.org/2000/svg\" height=\"24px\"viewBox=\"0 0 24 24\"\n",
              "       width=\"24px\">\n",
              "    <path d=\"M0 0h24v24H0V0z\" fill=\"none\"/>\n",
              "    <path d=\"M18.56 5.44l.94 2.06.94-2.06 2.06-.94-2.06-.94-.94-2.06-.94 2.06-2.06.94zm-11 1L8.5 8.5l.94-2.06 2.06-.94-2.06-.94L8.5 2.5l-.94 2.06-2.06.94zm10 10l.94 2.06.94-2.06 2.06-.94-2.06-.94-.94-2.06-.94 2.06-2.06.94z\"/><path d=\"M17.41 7.96l-1.37-1.37c-.4-.4-.92-.59-1.43-.59-.52 0-1.04.2-1.43.59L10.3 9.45l-7.72 7.72c-.78.78-.78 2.05 0 2.83L4 21.41c.39.39.9.59 1.41.59.51 0 1.02-.2 1.41-.59l7.78-7.78 2.81-2.81c.8-.78.8-2.07 0-2.86zM5.41 20L4 18.59l7.72-7.72 1.47 1.35L5.41 20z\"/>\n",
              "  </svg>\n",
              "      </button>\n",
              "      \n",
              "  <style>\n",
              "    .colab-df-container {\n",
              "      display:flex;\n",
              "      flex-wrap:wrap;\n",
              "      gap: 12px;\n",
              "    }\n",
              "\n",
              "    .colab-df-convert {\n",
              "      background-color: #E8F0FE;\n",
              "      border: none;\n",
              "      border-radius: 50%;\n",
              "      cursor: pointer;\n",
              "      display: none;\n",
              "      fill: #1967D2;\n",
              "      height: 32px;\n",
              "      padding: 0 0 0 0;\n",
              "      width: 32px;\n",
              "    }\n",
              "\n",
              "    .colab-df-convert:hover {\n",
              "      background-color: #E2EBFA;\n",
              "      box-shadow: 0px 1px 2px rgba(60, 64, 67, 0.3), 0px 1px 3px 1px rgba(60, 64, 67, 0.15);\n",
              "      fill: #174EA6;\n",
              "    }\n",
              "\n",
              "    [theme=dark] .colab-df-convert {\n",
              "      background-color: #3B4455;\n",
              "      fill: #D2E3FC;\n",
              "    }\n",
              "\n",
              "    [theme=dark] .colab-df-convert:hover {\n",
              "      background-color: #434B5C;\n",
              "      box-shadow: 0px 1px 3px 1px rgba(0, 0, 0, 0.15);\n",
              "      filter: drop-shadow(0px 1px 2px rgba(0, 0, 0, 0.3));\n",
              "      fill: #FFFFFF;\n",
              "    }\n",
              "  </style>\n",
              "\n",
              "      <script>\n",
              "        const buttonEl =\n",
              "          document.querySelector('#df-4d9f2700-7e8b-4fdc-8b76-3cfb64653047 button.colab-df-convert');\n",
              "        buttonEl.style.display =\n",
              "          google.colab.kernel.accessAllowed ? 'block' : 'none';\n",
              "\n",
              "        async function convertToInteractive(key) {\n",
              "          const element = document.querySelector('#df-4d9f2700-7e8b-4fdc-8b76-3cfb64653047');\n",
              "          const dataTable =\n",
              "            await google.colab.kernel.invokeFunction('convertToInteractive',\n",
              "                                                     [key], {});\n",
              "          if (!dataTable) return;\n",
              "\n",
              "          const docLinkHtml = 'Like what you see? Visit the ' +\n",
              "            '<a target=\"_blank\" href=https://colab.research.google.com/notebooks/data_table.ipynb>data table notebook</a>'\n",
              "            + ' to learn more about interactive tables.';\n",
              "          element.innerHTML = '';\n",
              "          dataTable['output_type'] = 'display_data';\n",
              "          await google.colab.output.renderOutput(dataTable, element);\n",
              "          const docLink = document.createElement('div');\n",
              "          docLink.innerHTML = docLinkHtml;\n",
              "          element.appendChild(docLink);\n",
              "        }\n",
              "      </script>\n",
              "    </div>\n",
              "  </div>\n",
              "  "
            ]
          },
          "metadata": {},
          "execution_count": 6
        }
      ],
      "source": [
        "df.head()"
      ]
    },
    {
      "cell_type": "code",
      "source": [
        "x=df.iloc[:,1:].values"
      ],
      "metadata": {
        "id": "ANCOkMNZa9b_"
      },
      "execution_count": 7,
      "outputs": []
    },
    {
      "cell_type": "code",
      "source": [
        "y=df.iloc[:,1].values.reshape(-1,1)"
      ],
      "metadata": {
        "id": "bPhplMmPbir1"
      },
      "execution_count": 8,
      "outputs": []
    },
    {
      "cell_type": "code",
      "source": [
        "x[0]"
      ],
      "metadata": {
        "colab": {
          "base_uri": "https://localhost:8080/"
        },
        "id": "f0D664UWbEmy",
        "outputId": "0f8a20a3-23c2-4a78-c89c-82e7f359350e"
      },
      "execution_count": 9,
      "outputs": [
        {
          "output_type": "execute_result",
          "data": {
            "text/plain": [
              "array([7420, 4, 2, 3, 'yes', 'no', 'no', 'no', 'yes', 2, 'furnished'],\n",
              "      dtype=object)"
            ]
          },
          "metadata": {},
          "execution_count": 9
        }
      ]
    },
    {
      "cell_type": "code",
      "source": [],
      "metadata": {
        "id": "RJZJo_SObGz-"
      },
      "execution_count": 9,
      "outputs": []
    },
    {
      "cell_type": "markdown",
      "metadata": {
        "id": "N32izT8bWTW5"
      },
      "source": [
        "UNIVARIATE ANALYSIS\n"
      ]
    },
    {
      "cell_type": "code",
      "execution_count": 10,
      "metadata": {
        "colab": {
          "base_uri": "https://localhost:8080/",
          "height": 499
        },
        "id": "rU95ISTXWJQC",
        "outputId": "b95fca15-340a-4c74-95f5-d413ed8ec3e4"
      },
      "outputs": [
        {
          "output_type": "execute_result",
          "data": {
            "text/plain": [
              "(array([ 73., 198., 117.,  88.,  39.,  15.,   8.,   5.,   0.,   2.]),\n",
              " array([ 1650.,  3105.,  4560.,  6015.,  7470.,  8925., 10380., 11835.,\n",
              "        13290., 14745., 16200.]),\n",
              " <BarContainer object of 10 artists>)"
            ]
          },
          "metadata": {},
          "execution_count": 10
        },
        {
          "output_type": "display_data",
          "data": {
            "text/plain": [
              "<Figure size 640x480 with 1 Axes>"
            ],
            "image/png": "[encoded data removed]"
          },
          "metadata": {}
        }
      ],
      "source": [
        "plt.hist(df['area']) "
      ]
    },
    {
      "cell_type": "code",
      "execution_count": 11,
      "metadata": {
        "colab": {
          "base_uri": "https://localhost:8080/",
          "height": 447
        },
        "id": "-AFKt_noWZFB",
        "outputId": "11916301-98f2-45ea-b016-8c784c42a468"
      },
      "outputs": [
        {
          "output_type": "execute_result",
          "data": {
            "text/plain": [
              "<Axes: >"
            ]
          },
          "metadata": {},
          "execution_count": 11
        },
        {
          "output_type": "display_data",
          "data": {
            "text/plain": [
              "<Figure size 640x480 with 1 Axes>"
            ],
            "image/png": "[encoded data removed]"
          },
          "metadata": {}
        }
      ],
      "source": [
        "df.boxplot(column=\"bedrooms\")"
      ]
    },
    {
      "cell_type": "markdown",
      "metadata": {
        "id": "081SzVVwW-oR"
      },
      "source": [
        "BIVARIATE ANALYSIS"
      ]
    },
    {
      "cell_type": "code",
      "execution_count": 12,
      "metadata": {
        "colab": {
          "base_uri": "https://localhost:8080/",
          "height": 466
        },
        "id": "oGsE8blBXDy2",
        "outputId": "f65763c4-9e85-4298-cc53-29959bfccd49"
      },
      "outputs": [
        {
          "output_type": "execute_result",
          "data": {
            "text/plain": [
              "<Axes: xlabel='bedrooms', ylabel='parking'>"
            ]
          },
          "metadata": {},
          "execution_count": 12
        },
        {
          "output_type": "display_data",
          "data": {
            "text/plain": [
              "<Figure size 640x480 with 1 Axes>"
            ],
            "image/png": "[encoded data removed]"
          },
          "metadata": {}
        }
      ],
      "source": [
        "sns.barplot(x=\"bedrooms\",y=\"parking\",data=df)"
      ]
    },
    {
      "cell_type": "code",
      "execution_count": 13,
      "metadata": {
        "colab": {
          "base_uri": "https://localhost:8080/",
          "height": 466
        },
        "id": "UDWLAEMvXcY0",
        "outputId": "3cca6027-9a61-4ccd-a28c-cc91c297d379"
      },
      "outputs": [
        {
          "output_type": "execute_result",
          "data": {
            "text/plain": [
              "<Axes: xlabel='price', ylabel='count'>"
            ]
          },
          "metadata": {},
          "execution_count": 13
        },
        {
          "output_type": "display_data",
          "data": {
            "text/plain": [
              "<Figure size 640x480 with 1 Axes>"
            ],
            "image/png": "[encoded data removed]"
          },
          "metadata": {}
        }
      ],
      "source": [
        "sns.countplot(x=\"price\",data=df)"
      ]
    },
    {
      "cell_type": "code",
      "execution_count": 14,
      "metadata": {
        "colab": {
          "base_uri": "https://localhost:8080/",
          "height": 466
        },
        "id": "FnoRyfsWXm4q",
        "outputId": "8c482b50-1c8d-4caf-d044-78aabf1f344d"
      },
      "outputs": [
        {
          "output_type": "execute_result",
          "data": {
            "text/plain": [
              "<Axes: xlabel='stories', ylabel='guestroom'>"
            ]
          },
          "metadata": {},
          "execution_count": 14
        },
        {
          "output_type": "display_data",
          "data": {
            "text/plain": [
              "<Figure size 640x480 with 1 Axes>"
            ],
            "image/png": "[encoded data removed]"
          },
          "metadata": {}
        }
      ],
      "source": [
        "sns.violinplot(x=\"stories\",y=\"guestroom\",data=df)"
      ]
    },
    {
      "cell_type": "markdown",
      "metadata": {
        "id": "qZ3u8PVWYFhK"
      },
      "source": [
        "MULTIVARIATE ANALYSIS"
      ]
    },
    {
      "cell_type": "code",
      "execution_count": 15,
      "metadata": {
        "colab": {
          "base_uri": "https://localhost:8080/",
          "height": 568
        },
        "id": "kaVd1xUZX_AN",
        "outputId": "dda4d80c-be42-4934-a4ac-f758d6075672"
      },
      "outputs": [
        {
          "output_type": "stream",
          "name": "stderr",
          "text": [
            "<ipython-input-15-aa4f4450a243>:1: FutureWarning: The default value of numeric_only in DataFrame.corr is deprecated. In a future version, it will default to False. Select only valid columns or specify the value of numeric_only to silence this warning.\n",
            "  sns.heatmap(df.corr())\n"
          ]
        },
        {
          "output_type": "execute_result",
          "data": {
            "text/plain": [
              "<Axes: >"
            ]
          },
          "metadata": {},
          "execution_count": 15
        },
        {
          "output_type": "display_data",
          "data": {
            "text/plain": [
              "<Figure size 640x480 with 2 Axes>"
            ],
            "image/png": "[encoded data removed]"
          },
          "metadata": {}
        }
      ],
      "source": [
        "sns.heatmap(df.corr())"
      ]
    },
    {
      "cell_type": "markdown",
      "metadata": {
        "id": "KiX8IqyiZA1m"
      },
      "source": [
        "DESCRIPTIVE STATISTICS"
      ]
    },
    {
      "cell_type": "code",
      "execution_count": 16,
      "metadata": {
        "colab": {
          "base_uri": "https://localhost:8080/",
          "height": 300
        },
        "id": "oQaTn1ywYjiB",
        "outputId": "5e4d93d5-548a-4fec-c24f-d2b9fe3df64f"
      },
      "outputs": [
        {
          "output_type": "execute_result",
          "data": {
            "text/plain": [
              "              price          area    bedrooms   bathrooms     stories  \\\n",
              "count  5.450000e+02    545.000000  545.000000  545.000000  545.000000   \n",
              "mean   4.766729e+06   5150.541284    2.965138    1.286239    1.805505   \n",
              "std    1.870440e+06   2170.141023    0.738064    0.502470    0.867492   \n",
              "min    1.750000e+06   1650.000000    1.000000    1.000000    1.000000   \n",
              "25%    3.430000e+06   3600.000000    2.000000    1.000000    1.000000   \n",
              "50%    4.340000e+06   4600.000000    3.000000    1.000000    2.000000   \n",
              "75%    5.740000e+06   6360.000000    3.000000    2.000000    2.000000   \n",
              "max    1.330000e+07  16200.000000    6.000000    4.000000    4.000000   \n",
              "\n",
              "          parking  \n",
              "count  545.000000  \n",
              "mean     0.693578  \n",
              "std      0.861586  \n",
              "min      0.000000  \n",
              "25%      0.000000  \n",
              "50%      0.000000  \n",
              "75%      1.000000  \n",
              "max      3.000000  "
            ],
            "text/html": [
              "\n",
              "  <div id=\"df-d4bc0d63-cf18-4c4e-998c-459cd930078e\">\n",
              "    <div class=\"colab-df-container\">\n",
              "      <div>\n",
              "<style scoped>\n",
              "    .dataframe tbody tr th:only-of-type {\n",
              "        vertical-align: middle;\n",
              "    }\n",
              "\n",
              "    .dataframe tbody tr th {\n",
              "        vertical-align: top;\n",
              "    }\n",
              "\n",
              "    .dataframe thead th {\n",
              "        text-align: right;\n",
              "    }\n",
              "</style>\n",
              "<table border=\"1\" class=\"dataframe\">\n",
              "  <thead>\n",
              "    <tr style=\"text-align: right;\">\n",
              "      <th></th>\n",
              "      <th>price</th>\n",
              "      <th>area</th>\n",
              "      <th>bedrooms</th>\n",
              "      <th>bathrooms</th>\n",
              "      <th>stories</th>\n",
              "      <th>parking</th>\n",
              "    </tr>\n",
              "  </thead>\n",
              "  <tbody>\n",
              "    <tr>\n",
              "      <th>count</th>\n",
              "      <td>5.450000e+02</td>\n",
              "      <td>545.000000</td>\n",
              "      <td>545.000000</td>\n",
              "      <td>545.000000</td>\n",
              "      <td>545.000000</td>\n",
              "      <td>545.000000</td>\n",
              "    </tr>\n",
              "    <tr>\n",
              "      <th>mean</th>\n",
              "      <td>4.766729e+06</td>\n",
              "      <td>5150.541284</td>\n",
              "      <td>2.965138</td>\n",
              "      <td>1.286239</td>\n",
              "      <td>1.805505</td>\n",
              "      <td>0.693578</td>\n",
              "    </tr>\n",
              "    <tr>\n",
              "      <th>std</th>\n",
              "      <td>1.870440e+06</td>\n",
              "      <td>2170.141023</td>\n",
              "      <td>0.738064</td>\n",
              "      <td>0.502470</td>\n",
              "      <td>0.867492</td>\n",
              "      <td>0.861586</td>\n",
              "    </tr>\n",
              "    <tr>\n",
              "      <th>min</th>\n",
              "      <td>1.750000e+06</td>\n",
              "      <td>1650.000000</td>\n",
              "      <td>1.000000</td>\n",
              "      <td>1.000000</td>\n",
              "      <td>1.000000</td>\n",
              "      <td>0.000000</td>\n",
              "    </tr>\n",
              "    <tr>\n",
              "      <th>25%</th>\n",
              "      <td>3.430000e+06</td>\n",
              "      <td>3600.000000</td>\n",
              "      <td>2.000000</td>\n",
              "      <td>1.000000</td>\n",
              "      <td>1.000000</td>\n",
              "      <td>0.000000</td>\n",
              "    </tr>\n",
              "    <tr>\n",
              "      <th>50%</th>\n",
              "      <td>4.340000e+06</td>\n",
              "      <td>4600.000000</td>\n",
              "      <td>3.000000</td>\n",
              "      <td>1.000000</td>\n",
              "      <td>2.000000</td>\n",
              "      <td>0.000000</td>\n",
              "    </tr>\n",
              "    <tr>\n",
              "      <th>75%</th>\n",
              "      <td>5.740000e+06</td>\n",
              "      <td>6360.000000</td>\n",
              "      <td>3.000000</td>\n",
              "      <td>2.000000</td>\n",
              "      <td>2.000000</td>\n",
              "      <td>1.000000</td>\n",
              "    </tr>\n",
              "    <tr>\n",
              "      <th>max</th>\n",
              "      <td>1.330000e+07</td>\n",
              "      <td>16200.000000</td>\n",
              "      <td>6.000000</td>\n",
              "      <td>4.000000</td>\n",
              "      <td>4.000000</td>\n",
              "      <td>3.000000</td>\n",
              "    </tr>\n",
              "  </tbody>\n",
              "</table>\n",
              "</div>\n",
              "      <button class=\"colab-df-convert\" onclick=\"convertToInteractive('df-d4bc0d63-cf18-4c4e-998c-459cd930078e')\"\n",
              "              title=\"Convert this dataframe to an interactive table.\"\n",
              "              style=\"display:none;\">\n",
              "        \n",
              "  <svg xmlns=\"http://www.w3.org/2000/svg\" height=\"24px\"viewBox=\"0 0 24 24\"\n",
              "       width=\"24px\">\n",
              "    <path d=\"M0 0h24v24H0V0z\" fill=\"none\"/>\n",
              "    <path d=\"M18.56 5.44l.94 2.06.94-2.06 2.06-.94-2.06-.94-.94-2.06-.94 2.06-2.06.94zm-11 1L8.5 8.5l.94-2.06 2.06-.94-2.06-.94L8.5 2.5l-.94 2.06-2.06.94zm10 10l.94 2.06.94-2.06 2.06-.94-2.06-.94-.94-2.06-.94 2.06-2.06.94z\"/><path d=\"M17.41 7.96l-1.37-1.37c-.4-.4-.92-.59-1.43-.59-.52 0-1.04.2-1.43.59L10.3 9.45l-7.72 7.72c-.78.78-.78 2.05 0 2.83L4 21.41c.39.39.9.59 1.41.59.51 0 1.02-.2 1.41-.59l7.78-7.78 2.81-2.81c.8-.78.8-2.07 0-2.86zM5.41 20L4 18.59l7.72-7.72 1.47 1.35L5.41 20z\"/>\n",
              "  </svg>\n",
              "      </button>\n",
              "      \n",
              "  <style>\n",
              "    .colab-df-container {\n",
              "      display:flex;\n",
              "      flex-wrap:wrap;\n",
              "      gap: 12px;\n",
              "    }\n",
              "\n",
              "    .colab-df-convert {\n",
              "      background-color: #E8F0FE;\n",
              "      border: none;\n",
              "      border-radius: 50%;\n",
              "      cursor: pointer;\n",
              "      display: none;\n",
              "      fill: #1967D2;\n",
              "      height: 32px;\n",
              "      padding: 0 0 0 0;\n",
              "      width: 32px;\n",
              "    }\n",
              "\n",
              "    .colab-df-convert:hover {\n",
              "      background-color: #E2EBFA;\n",
              "      box-shadow: 0px 1px 2px rgba(60, 64, 67, 0.3), 0px 1px 3px 1px rgba(60, 64, 67, 0.15);\n",
              "      fill: #174EA6;\n",
              "    }\n",
              "\n",
              "    [theme=dark] .colab-df-convert {\n",
              "      background-color: #3B4455;\n",
              "      fill: #D2E3FC;\n",
              "    }\n",
              "\n",
              "    [theme=dark] .colab-df-convert:hover {\n",
              "      background-color: #434B5C;\n",
              "      box-shadow: 0px 1px 3px 1px rgba(0, 0, 0, 0.15);\n",
              "      filter: drop-shadow(0px 1px 2px rgba(0, 0, 0, 0.3));\n",
              "      fill: #FFFFFF;\n",
              "    }\n",
              "  </style>\n",
              "\n",
              "      <script>\n",
              "        const buttonEl =\n",
              "          document.querySelector('#df-d4bc0d63-cf18-4c4e-998c-459cd930078e button.colab-df-convert');\n",
              "        buttonEl.style.display =\n",
              "          google.colab.kernel.accessAllowed ? 'block' : 'none';\n",
              "\n",
              "        async function convertToInteractive(key) {\n",
              "          const element = document.querySelector('#df-d4bc0d63-cf18-4c4e-998c-459cd930078e');\n",
              "          const dataTable =\n",
              "            await google.colab.kernel.invokeFunction('convertToInteractive',\n",
              "                                                     [key], {});\n",
              "          if (!dataTable) return;\n",
              "\n",
              "          const docLinkHtml = 'Like what you see? Visit the ' +\n",
              "            '<a target=\"_blank\" href=https://colab.research.google.com/notebooks/data_table.ipynb>data table notebook</a>'\n",
              "            + ' to learn more about interactive tables.';\n",
              "          element.innerHTML = '';\n",
              "          dataTable['output_type'] = 'display_data';\n",
              "          await google.colab.output.renderOutput(dataTable, element);\n",
              "          const docLink = document.createElement('div');\n",
              "          docLink.innerHTML = docLinkHtml;\n",
              "          element.appendChild(docLink);\n",
              "        }\n",
              "      </script>\n",
              "    </div>\n",
              "  </div>\n",
              "  "
            ]
          },
          "metadata": {},
          "execution_count": 16
        }
      ],
      "source": [
        "df.describe()"
      ]
    },
    {
      "cell_type": "markdown",
      "metadata": {
        "id": "XBXsix85Y7JI"
      },
      "source": [
        "NULL HANDLING"
      ]
    },
    {
      "cell_type": "code",
      "execution_count": 17,
      "metadata": {
        "colab": {
          "base_uri": "https://localhost:8080/"
        },
        "id": "daWBu-YuYnod",
        "outputId": "df3ead10-885f-4a5d-a0c1-89f18b3b558e"
      },
      "outputs": [
        {
          "output_type": "execute_result",
          "data": {
            "text/plain": [
              "price               0\n",
              "area                0\n",
              "bedrooms            0\n",
              "bathrooms           0\n",
              "stories             0\n",
              "mainroad            0\n",
              "guestroom           0\n",
              "basement            0\n",
              "hotwaterheating     0\n",
              "airconditioning     0\n",
              "parking             0\n",
              "furnishingstatus    0\n",
              "dtype: int64"
            ]
          },
          "metadata": {},
          "execution_count": 17
        }
      ],
      "source": [
        "df.isna().sum()"
      ]
    },
    {
      "cell_type": "markdown",
      "metadata": {
        "id": "npqC8Qi6ZPmQ"
      },
      "source": [
        "OUTLIERS"
      ]
    },
    {
      "cell_type": "code",
      "execution_count": 18,
      "metadata": {
        "id": "N-bLSi4UYrnS"
      },
      "outputs": [],
      "source": [
        "df = df.drop(columns=([\"stories\", \"bedrooms\",\"bathrooms\"]))"
      ]
    },
    {
      "cell_type": "code",
      "execution_count": 19,
      "metadata": {
        "colab": {
          "base_uri": "https://localhost:8080/",
          "height": 300
        },
        "id": "RPtozDmRaJTz",
        "outputId": "00d08435-f786-4f58-bddc-7ea17466a46e"
      },
      "outputs": [
        {
          "output_type": "execute_result",
          "data": {
            "text/plain": [
              "              price          area     parking\n",
              "count  5.450000e+02    545.000000  545.000000\n",
              "mean   4.766729e+06   5150.541284    0.693578\n",
              "std    1.870440e+06   2170.141023    0.861586\n",
              "min    1.750000e+06   1650.000000    0.000000\n",
              "25%    3.430000e+06   3600.000000    0.000000\n",
              "50%    4.340000e+06   4600.000000    0.000000\n",
              "75%    5.740000e+06   6360.000000    1.000000\n",
              "max    1.330000e+07  16200.000000    3.000000"
            ],
            "text/html": [
              "\n",
              "  <div id=\"df-7e2414c7-0aea-40f4-991a-f9bb2223ea9f\">\n",
              "    <div class=\"colab-df-container\">\n",
              "      <div>\n",
              "<style scoped>\n",
              "    .dataframe tbody tr th:only-of-type {\n",
              "        vertical-align: middle;\n",
              "    }\n",
              "\n",
              "    .dataframe tbody tr th {\n",
              "        vertical-align: top;\n",
              "    }\n",
              "\n",
              "    .dataframe thead th {\n",
              "        text-align: right;\n",
              "    }\n",
              "</style>\n",
              "<table border=\"1\" class=\"dataframe\">\n",
              "  <thead>\n",
              "    <tr style=\"text-align: right;\">\n",
              "      <th></th>\n",
              "      <th>price</th>\n",
              "      <th>area</th>\n",
              "      <th>parking</th>\n",
              "    </tr>\n",
              "  </thead>\n",
              "  <tbody>\n",
              "    <tr>\n",
              "      <th>count</th>\n",
              "      <td>5.450000e+02</td>\n",
              "      <td>545.000000</td>\n",
              "      <td>545.000000</td>\n",
              "    </tr>\n",
              "    <tr>\n",
              "      <th>mean</th>\n",
              "      <td>4.766729e+06</td>\n",
              "      <td>5150.541284</td>\n",
              "      <td>0.693578</td>\n",
              "    </tr>\n",
              "    <tr>\n",
              "      <th>std</th>\n",
              "      <td>1.870440e+06</td>\n",
              "      <td>2170.141023</td>\n",
              "      <td>0.861586</td>\n",
              "    </tr>\n",
              "    <tr>\n",
              "      <th>min</th>\n",
              "      <td>1.750000e+06</td>\n",
              "      <td>1650.000000</td>\n",
              "      <td>0.000000</td>\n",
              "    </tr>\n",
              "    <tr>\n",
              "      <th>25%</th>\n",
              "      <td>3.430000e+06</td>\n",
              "      <td>3600.000000</td>\n",
              "      <td>0.000000</td>\n",
              "    </tr>\n",
              "    <tr>\n",
              "      <th>50%</th>\n",
              "      <td>4.340000e+06</td>\n",
              "      <td>4600.000000</td>\n",
              "      <td>0.000000</td>\n",
              "    </tr>\n",
              "    <tr>\n",
              "      <th>75%</th>\n",
              "      <td>5.740000e+06</td>\n",
              "      <td>6360.000000</td>\n",
              "      <td>1.000000</td>\n",
              "    </tr>\n",
              "    <tr>\n",
              "      <th>max</th>\n",
              "      <td>1.330000e+07</td>\n",
              "      <td>16200.000000</td>\n",
              "      <td>3.000000</td>\n",
              "    </tr>\n",
              "  </tbody>\n",
              "</table>\n",
              "</div>\n",
              "      <button class=\"colab-df-convert\" onclick=\"convertToInteractive('df-7e2414c7-0aea-40f4-991a-f9bb2223ea9f')\"\n",
              "              title=\"Convert this dataframe to an interactive table.\"\n",
              "              style=\"display:none;\">\n",
              "        \n",
              "  <svg xmlns=\"http://www.w3.org/2000/svg\" height=\"24px\"viewBox=\"0 0 24 24\"\n",
              "       width=\"24px\">\n",
              "    <path d=\"M0 0h24v24H0V0z\" fill=\"none\"/>\n",
              "    <path d=\"M18.56 5.44l.94 2.06.94-2.06 2.06-.94-2.06-.94-.94-2.06-.94 2.06-2.06.94zm-11 1L8.5 8.5l.94-2.06 2.06-.94-2.06-.94L8.5 2.5l-.94 2.06-2.06.94zm10 10l.94 2.06.94-2.06 2.06-.94-2.06-.94-.94-2.06-.94 2.06-2.06.94z\"/><path d=\"M17.41 7.96l-1.37-1.37c-.4-.4-.92-.59-1.43-.59-.52 0-1.04.2-1.43.59L10.3 9.45l-7.72 7.72c-.78.78-.78 2.05 0 2.83L4 21.41c.39.39.9.59 1.41.59.51 0 1.02-.2 1.41-.59l7.78-7.78 2.81-2.81c.8-.78.8-2.07 0-2.86zM5.41 20L4 18.59l7.72-7.72 1.47 1.35L5.41 20z\"/>\n",
              "  </svg>\n",
              "      </button>\n",
              "      \n",
              "  <style>\n",
              "    .colab-df-container {\n",
              "      display:flex;\n",
              "      flex-wrap:wrap;\n",
              "      gap: 12px;\n",
              "    }\n",
              "\n",
              "    .colab-df-convert {\n",
              "      background-color: #E8F0FE;\n",
              "      border: none;\n",
              "      border-radius: 50%;\n",
              "      cursor: pointer;\n",
              "      display: none;\n",
              "      fill: #1967D2;\n",
              "      height: 32px;\n",
              "      padding: 0 0 0 0;\n",
              "      width: 32px;\n",
              "    }\n",
              "\n",
              "    .colab-df-convert:hover {\n",
              "      background-color: #E2EBFA;\n",
              "      box-shadow: 0px 1px 2px rgba(60, 64, 67, 0.3), 0px 1px 3px 1px rgba(60, 64, 67, 0.15);\n",
              "      fill: #174EA6;\n",
              "    }\n",
              "\n",
              "    [theme=dark] .colab-df-convert {\n",
              "      background-color: #3B4455;\n",
              "      fill: #D2E3FC;\n",
              "    }\n",
              "\n",
              "    [theme=dark] .colab-df-convert:hover {\n",
              "      background-color: #434B5C;\n",
              "      box-shadow: 0px 1px 3px 1px rgba(0, 0, 0, 0.15);\n",
              "      filter: drop-shadow(0px 1px 2px rgba(0, 0, 0, 0.3));\n",
              "      fill: #FFFFFF;\n",
              "    }\n",
              "  </style>\n",
              "\n",
              "      <script>\n",
              "        const buttonEl =\n",
              "          document.querySelector('#df-7e2414c7-0aea-40f4-991a-f9bb2223ea9f button.colab-df-convert');\n",
              "        buttonEl.style.display =\n",
              "          google.colab.kernel.accessAllowed ? 'block' : 'none';\n",
              "\n",
              "        async function convertToInteractive(key) {\n",
              "          const element = document.querySelector('#df-7e2414c7-0aea-40f4-991a-f9bb2223ea9f');\n",
              "          const dataTable =\n",
              "            await google.colab.kernel.invokeFunction('convertToInteractive',\n",
              "                                                     [key], {});\n",
              "          if (!dataTable) return;\n",
              "\n",
              "          const docLinkHtml = 'Like what you see? Visit the ' +\n",
              "            '<a target=\"_blank\" href=https://colab.research.google.com/notebooks/data_table.ipynb>data table notebook</a>'\n",
              "            + ' to learn more about interactive tables.';\n",
              "          element.innerHTML = '';\n",
              "          dataTable['output_type'] = 'display_data';\n",
              "          await google.colab.output.renderOutput(dataTable, element);\n",
              "          const docLink = document.createElement('div');\n",
              "          docLink.innerHTML = docLinkHtml;\n",
              "          element.appendChild(docLink);\n",
              "        }\n",
              "      </script>\n",
              "    </div>\n",
              "  </div>\n",
              "  "
            ]
          },
          "metadata": {},
          "execution_count": 19
        }
      ],
      "source": [
        "df.describe()"
      ]
    },
    {
      "cell_type": "markdown",
      "metadata": {
        "id": "e3D6-h_cartr"
      },
      "source": [
        "CATEGORIAL COLUMNS AND PERFORM ENCODING"
      ]
    },
    {
      "cell_type": "code",
      "execution_count": 20,
      "metadata": {
        "id": "QUqbS5phaN5f"
      },
      "outputs": [],
      "source": [
        "df_categorical =df[[\"guestroom\",\"basement\",\"hotwaterheating\",\"airconditioning\"]]"
      ]
    },
    {
      "cell_type": "code",
      "execution_count": 21,
      "metadata": {
        "colab": {
          "base_uri": "https://localhost:8080/",
          "height": 206
        },
        "id": "xhDGspF5b8Z6",
        "outputId": "910bb155-15a3-480e-c208-c4a295a9b86e"
      },
      "outputs": [
        {
          "output_type": "execute_result",
          "data": {
            "text/plain": [
              "  guestroom basement hotwaterheating airconditioning\n",
              "0        no       no              no             yes\n",
              "1        no       no              no             yes\n",
              "2        no      yes              no              no\n",
              "3        no      yes              no             yes\n",
              "4       yes      yes              no             yes"
            ],
            "text/html": [
              "\n",
              "  <div id=\"df-bb8aa890-4c70-4421-b383-dc86fd6be374\">\n",
              "    <div class=\"colab-df-container\">\n",
              "      <div>\n",
              "<style scoped>\n",
              "    .dataframe tbody tr th:only-of-type {\n",
              "        vertical-align: middle;\n",
              "    }\n",
              "\n",
              "    .dataframe tbody tr th {\n",
              "        vertical-align: top;\n",
              "    }\n",
              "\n",
              "    .dataframe thead th {\n",
              "        text-align: right;\n",
              "    }\n",
              "</style>\n",
              "<table border=\"1\" class=\"dataframe\">\n",
              "  <thead>\n",
              "    <tr style=\"text-align: right;\">\n",
              "      <th></th>\n",
              "      <th>guestroom</th>\n",
              "      <th>basement</th>\n",
              "      <th>hotwaterheating</th>\n",
              "      <th>airconditioning</th>\n",
              "    </tr>\n",
              "  </thead>\n",
              "  <tbody>\n",
              "    <tr>\n",
              "      <th>0</th>\n",
              "      <td>no</td>\n",
              "      <td>no</td>\n",
              "      <td>no</td>\n",
              "      <td>yes</td>\n",
              "    </tr>\n",
              "    <tr>\n",
              "      <th>1</th>\n",
              "      <td>no</td>\n",
              "      <td>no</td>\n",
              "      <td>no</td>\n",
              "      <td>yes</td>\n",
              "    </tr>\n",
              "    <tr>\n",
              "      <th>2</th>\n",
              "      <td>no</td>\n",
              "      <td>yes</td>\n",
              "      <td>no</td>\n",
              "      <td>no</td>\n",
              "    </tr>\n",
              "    <tr>\n",
              "      <th>3</th>\n",
              "      <td>no</td>\n",
              "      <td>yes</td>\n",
              "      <td>no</td>\n",
              "      <td>yes</td>\n",
              "    </tr>\n",
              "    <tr>\n",
              "      <th>4</th>\n",
              "      <td>yes</td>\n",
              "      <td>yes</td>\n",
              "      <td>no</td>\n",
              "      <td>yes</td>\n",
              "    </tr>\n",
              "  </tbody>\n",
              "</table>\n",
              "</div>\n",
              "      <button class=\"colab-df-convert\" onclick=\"convertToInteractive('df-bb8aa890-4c70-4421-b383-dc86fd6be374')\"\n",
              "              title=\"Convert this dataframe to an interactive table.\"\n",
              "              style=\"display:none;\">\n",
              "        \n",
              "  <svg xmlns=\"http://www.w3.org/2000/svg\" height=\"24px\"viewBox=\"0 0 24 24\"\n",
              "       width=\"24px\">\n",
              "    <path d=\"M0 0h24v24H0V0z\" fill=\"none\"/>\n",
              "    <path d=\"M18.56 5.44l.94 2.06.94-2.06 2.06-.94-2.06-.94-.94-2.06-.94 2.06-2.06.94zm-11 1L8.5 8.5l.94-2.06 2.06-.94-2.06-.94L8.5 2.5l-.94 2.06-2.06.94zm10 10l.94 2.06.94-2.06 2.06-.94-2.06-.94-.94-2.06-.94 2.06-2.06.94z\"/><path d=\"M17.41 7.96l-1.37-1.37c-.4-.4-.92-.59-1.43-.59-.52 0-1.04.2-1.43.59L10.3 9.45l-7.72 7.72c-.78.78-.78 2.05 0 2.83L4 21.41c.39.39.9.59 1.41.59.51 0 1.02-.2 1.41-.59l7.78-7.78 2.81-2.81c.8-.78.8-2.07 0-2.86zM5.41 20L4 18.59l7.72-7.72 1.47 1.35L5.41 20z\"/>\n",
              "  </svg>\n",
              "      </button>\n",
              "      \n",
              "  <style>\n",
              "    .colab-df-container {\n",
              "      display:flex;\n",
              "      flex-wrap:wrap;\n",
              "      gap: 12px;\n",
              "    }\n",
              "\n",
              "    .colab-df-convert {\n",
              "      background-color: #E8F0FE;\n",
              "      border: none;\n",
              "      border-radius: 50%;\n",
              "      cursor: pointer;\n",
              "      display: none;\n",
              "      fill: #1967D2;\n",
              "      height: 32px;\n",
              "      padding: 0 0 0 0;\n",
              "      width: 32px;\n",
              "    }\n",
              "\n",
              "    .colab-df-convert:hover {\n",
              "      background-color: #E2EBFA;\n",
              "      box-shadow: 0px 1px 2px rgba(60, 64, 67, 0.3), 0px 1px 3px 1px rgba(60, 64, 67, 0.15);\n",
              "      fill: #174EA6;\n",
              "    }\n",
              "\n",
              "    [theme=dark] .colab-df-convert {\n",
              "      background-color: #3B4455;\n",
              "      fill: #D2E3FC;\n",
              "    }\n",
              "\n",
              "    [theme=dark] .colab-df-convert:hover {\n",
              "      background-color: #434B5C;\n",
              "      box-shadow: 0px 1px 3px 1px rgba(0, 0, 0, 0.15);\n",
              "      filter: drop-shadow(0px 1px 2px rgba(0, 0, 0, 0.3));\n",
              "      fill: #FFFFFF;\n",
              "    }\n",
              "  </style>\n",
              "\n",
              "      <script>\n",
              "        const buttonEl =\n",
              "          document.querySelector('#df-bb8aa890-4c70-4421-b383-dc86fd6be374 button.colab-df-convert');\n",
              "        buttonEl.style.display =\n",
              "          google.colab.kernel.accessAllowed ? 'block' : 'none';\n",
              "\n",
              "        async function convertToInteractive(key) {\n",
              "          const element = document.querySelector('#df-bb8aa890-4c70-4421-b383-dc86fd6be374');\n",
              "          const dataTable =\n",
              "            await google.colab.kernel.invokeFunction('convertToInteractive',\n",
              "                                                     [key], {});\n",
              "          if (!dataTable) return;\n",
              "\n",
              "          const docLinkHtml = 'Like what you see? Visit the ' +\n",
              "            '<a target=\"_blank\" href=https://colab.research.google.com/notebooks/data_table.ipynb>data table notebook</a>'\n",
              "            + ' to learn more about interactive tables.';\n",
              "          element.innerHTML = '';\n",
              "          dataTable['output_type'] = 'display_data';\n",
              "          await google.colab.output.renderOutput(dataTable, element);\n",
              "          const docLink = document.createElement('div');\n",
              "          docLink.innerHTML = docLinkHtml;\n",
              "          element.appendChild(docLink);\n",
              "        }\n",
              "      </script>\n",
              "    </div>\n",
              "  </div>\n",
              "  "
            ]
          },
          "metadata": {},
          "execution_count": 21
        }
      ],
      "source": [
        "df_categorical.head()"
      ]
    },
    {
      "cell_type": "code",
      "execution_count": 22,
      "metadata": {
        "colab": {
          "base_uri": "https://localhost:8080/"
        },
        "id": "x7Booss2cJtu",
        "outputId": "fe8c2be2-6628-48a8-aa95-98158fec1fdb"
      },
      "outputs": [
        {
          "output_type": "stream",
          "name": "stdout",
          "text": [
            "['yes' 'no']\n"
          ]
        }
      ],
      "source": [
        "print(df['airconditioning'].unique())"
      ]
    },
    {
      "cell_type": "code",
      "execution_count": 23,
      "metadata": {
        "colab": {
          "base_uri": "https://localhost:8080/"
        },
        "id": "hdeQix08cUmb",
        "outputId": "63866f8a-24af-48a8-f1e9-c36dcad28404"
      },
      "outputs": [
        {
          "output_type": "stream",
          "name": "stdout",
          "text": [
            "['no' 'yes']\n"
          ]
        }
      ],
      "source": [
        "print(df['basement'].unique())"
      ]
    },
    {
      "cell_type": "code",
      "execution_count": 24,
      "metadata": {
        "colab": {
          "base_uri": "https://localhost:8080/"
        },
        "id": "nhIoSnRwcgJ7",
        "outputId": "5e604c2b-47ed-4d40-8a6d-68cf7d3718f7"
      },
      "outputs": [
        {
          "output_type": "stream",
          "name": "stdout",
          "text": [
            "['no' 'yes']\n"
          ]
        }
      ],
      "source": [
        "print(df['guestroom'].unique())"
      ]
    },
    {
      "cell_type": "code",
      "execution_count": 25,
      "metadata": {
        "colab": {
          "base_uri": "https://localhost:8080/"
        },
        "id": "MmHXKUEOclaL",
        "outputId": "5f785981-4ed3-4f3e-c65d-5e7029fcc71e"
      },
      "outputs": [
        {
          "output_type": "stream",
          "name": "stdout",
          "text": [
            "['no' 'yes']\n"
          ]
        }
      ],
      "source": [
        "print(df['hotwaterheating'].unique())"
      ]
    },
    {
      "cell_type": "code",
      "source": [
        "print(df['furnishingstatus'].unique())"
      ],
      "metadata": {
        "colab": {
          "base_uri": "https://localhost:8080/"
        },
        "id": "tqBKTrcLXzro",
        "outputId": "1909902b-ef6b-4e8d-c5d3-54076f366bc5"
      },
      "execution_count": 26,
      "outputs": [
        {
          "output_type": "stream",
          "name": "stdout",
          "text": [
            "['furnished' 'semi-furnished' 'unfurnished']\n"
          ]
        }
      ]
    },
    {
      "cell_type": "markdown",
      "metadata": {
        "id": "fmZoQyekcscC"
      },
      "source": [
        "SPLIT THE DATA INTO DEPENDENT AND INDEPENDENT VARIABLES"
      ]
    },
    {
      "cell_type": "code",
      "execution_count": 27,
      "metadata": {
        "colab": {
          "base_uri": "https://localhost:8080/"
        },
        "id": "sblz3F5nh_6N",
        "outputId": "60866b5f-26f1-4ee3-b7d2-c860230d0fc4"
      },
      "outputs": [
        {
          "output_type": "execute_result",
          "data": {
            "text/plain": [
              "array([7420, 4, 2, 3, 'yes', 'no', 'no', 'no', 'yes', 2, 'furnished'],\n",
              "      dtype=object)"
            ]
          },
          "metadata": {},
          "execution_count": 27
        }
      ],
      "source": [
        "x[0]"
      ]
    },
    {
      "cell_type": "code",
      "execution_count": 28,
      "metadata": {
        "colab": {
          "base_uri": "https://localhost:8080/"
        },
        "id": "Ia8F5MScfGx6",
        "outputId": "0c6bd446-b91c-4742-d0ac-7aba7d54086c"
      },
      "outputs": [
        {
          "output_type": "execute_result",
          "data": {
            "text/plain": [
              "array([[ 7420],\n",
              "       [ 8960],\n",
              "       [ 9960],\n",
              "       [ 7500],\n",
              "       [ 7420],\n",
              "       [ 7500],\n",
              "       [ 8580],\n",
              "       [16200],\n",
              "       [ 8100],\n",
              "       [ 5750],\n",
              "       [13200],\n",
              "       [ 6000],\n",
              "       [ 6550],\n",
              "       [ 3500],\n",
              "       [ 7800],\n",
              "       [ 6000],\n",
              "       [ 6600],\n",
              "       [ 8500],\n",
              "       [ 4600],\n",
              "       [ 6420],\n",
              "       [ 4320],\n",
              "       [ 7155],\n",
              "       [ 8050],\n",
              "       [ 4560],\n",
              "       [ 8800],\n",
              "       [ 6540],\n",
              "       [ 6000],\n",
              "       [ 8875],\n",
              "       [ 7950],\n",
              "       [ 5500],\n",
              "       [ 7475],\n",
              "       [ 7000],\n",
              "       [ 4880],\n",
              "       [ 5960],\n",
              "       [ 6840],\n",
              "       [ 7000],\n",
              "       [ 7482],\n",
              "       [ 9000],\n",
              "       [ 6000],\n",
              "       [ 6000],\n",
              "       [ 6550],\n",
              "       [ 6360],\n",
              "       [ 6480],\n",
              "       [ 6000],\n",
              "       [ 6000],\n",
              "       [ 6000],\n",
              "       [ 6000],\n",
              "       [ 6600],\n",
              "       [ 4300],\n",
              "       [ 7440],\n",
              "       [ 7440],\n",
              "       [ 6325],\n",
              "       [ 6000],\n",
              "       [ 5150],\n",
              "       [ 6000],\n",
              "       [ 6000],\n",
              "       [11440],\n",
              "       [ 9000],\n",
              "       [ 7680],\n",
              "       [ 6000],\n",
              "       [ 6000],\n",
              "       [ 8880],\n",
              "       [ 6240],\n",
              "       [ 6360],\n",
              "       [11175],\n",
              "       [ 8880],\n",
              "       [13200],\n",
              "       [ 7700],\n",
              "       [ 6000],\n",
              "       [12090],\n",
              "       [ 4000],\n",
              "       [ 6000],\n",
              "       [ 5020],\n",
              "       [ 6600],\n",
              "       [ 4040],\n",
              "       [ 4260],\n",
              "       [ 6420],\n",
              "       [ 6500],\n",
              "       [ 5700],\n",
              "       [ 6000],\n",
              "       [ 6000],\n",
              "       [ 4000],\n",
              "       [10500],\n",
              "       [ 6000],\n",
              "       [ 3760],\n",
              "       [ 8250],\n",
              "       [ 6670],\n",
              "       [ 3960],\n",
              "       [ 7410],\n",
              "       [ 8580],\n",
              "       [ 5000],\n",
              "       [ 6750],\n",
              "       [ 4800],\n",
              "       [ 7200],\n",
              "       [ 6000],\n",
              "       [ 4100],\n",
              "       [ 9000],\n",
              "       [ 6400],\n",
              "       [ 6600],\n",
              "       [ 6000],\n",
              "       [ 6600],\n",
              "       [ 5500],\n",
              "       [ 5500],\n",
              "       [ 6350],\n",
              "       [ 5500],\n",
              "       [ 4500],\n",
              "       [ 5450],\n",
              "       [ 6420],\n",
              "       [ 3240],\n",
              "       [ 6615],\n",
              "       [ 6600],\n",
              "       [ 8372],\n",
              "       [ 4300],\n",
              "       [ 9620],\n",
              "       [ 6800],\n",
              "       [ 8000],\n",
              "       [ 6900],\n",
              "       [ 3700],\n",
              "       [ 6420],\n",
              "       [ 7020],\n",
              "       [ 6540],\n",
              "       [ 7231],\n",
              "       [ 6254],\n",
              "       [ 7320],\n",
              "       [ 6525],\n",
              "       [15600],\n",
              "       [ 7160],\n",
              "       [ 6500],\n",
              "       [ 5500],\n",
              "       [11460],\n",
              "       [ 4800],\n",
              "       [ 5828],\n",
              "       [ 5200],\n",
              "       [ 4800],\n",
              "       [ 7000],\n",
              "       [ 6000],\n",
              "       [ 5400],\n",
              "       [ 4640],\n",
              "       [ 5000],\n",
              "       [ 6360],\n",
              "       [ 5800],\n",
              "       [ 6660],\n",
              "       [10500],\n",
              "       [ 4800],\n",
              "       [ 4700],\n",
              "       [ 5000],\n",
              "       [10500],\n",
              "       [ 5500],\n",
              "       [ 6360],\n",
              "       [ 6600],\n",
              "       [ 5136],\n",
              "       [ 4400],\n",
              "       [ 5400],\n",
              "       [ 3300],\n",
              "       [ 3650],\n",
              "       [ 6100],\n",
              "       [ 6900],\n",
              "       [ 2817],\n",
              "       [ 7980],\n",
              "       [ 3150],\n",
              "       [ 6210],\n",
              "       [ 6100],\n",
              "       [ 6600],\n",
              "       [ 6825],\n",
              "       [ 6710],\n",
              "       [ 6450],\n",
              "       [ 7800],\n",
              "       [ 4600],\n",
              "       [ 4260],\n",
              "       [ 6540],\n",
              "       [ 5500],\n",
              "       [10269],\n",
              "       [ 8400],\n",
              "       [ 5300],\n",
              "       [ 3800],\n",
              "       [ 9800],\n",
              "       [ 8520],\n",
              "       [ 6050],\n",
              "       [ 7085],\n",
              "       [ 3180],\n",
              "       [ 4500],\n",
              "       [ 7200],\n",
              "       [ 3410],\n",
              "       [ 7980],\n",
              "       [ 3000],\n",
              "       [ 3000],\n",
              "       [11410],\n",
              "       [ 6100],\n",
              "       [ 5720],\n",
              "       [ 3540],\n",
              "       [ 7600],\n",
              "       [10700],\n",
              "       [ 6600],\n",
              "       [ 4800],\n",
              "       [ 8150],\n",
              "       [ 4410],\n",
              "       [ 7686],\n",
              "       [ 2800],\n",
              "       [ 5948],\n",
              "       [ 4200],\n",
              "       [ 4520],\n",
              "       [ 4095],\n",
              "       [ 4120],\n",
              "       [ 5400],\n",
              "       [ 4770],\n",
              "       [ 6300],\n",
              "       [ 5800],\n",
              "       [ 3000],\n",
              "       [ 2970],\n",
              "       [ 6720],\n",
              "       [ 4646],\n",
              "       [12900],\n",
              "       [ 3420],\n",
              "       [ 4995],\n",
              "       [ 4350],\n",
              "       [ 4160],\n",
              "       [ 6040],\n",
              "       [ 6862],\n",
              "       [ 4815],\n",
              "       [ 7000],\n",
              "       [ 8100],\n",
              "       [ 3420],\n",
              "       [ 9166],\n",
              "       [ 6321],\n",
              "       [10240],\n",
              "       [ 6440],\n",
              "       [ 5170],\n",
              "       [ 6000],\n",
              "       [ 3630],\n",
              "       [ 9667],\n",
              "       [ 5400],\n",
              "       [ 4320],\n",
              "       [ 3745],\n",
              "       [ 4160],\n",
              "       [ 3880],\n",
              "       [ 5680],\n",
              "       [ 2870],\n",
              "       [ 5010],\n",
              "       [ 4510],\n",
              "       [ 4000],\n",
              "       [ 3840],\n",
              "       [ 3760],\n",
              "       [ 3640],\n",
              "       [ 2550],\n",
              "       [ 5320],\n",
              "       [ 5360],\n",
              "       [ 3520],\n",
              "       [ 8400],\n",
              "       [ 4100],\n",
              "       [ 4990],\n",
              "       [ 3510],\n",
              "       [ 3450],\n",
              "       [ 9860],\n",
              "       [ 3520],\n",
              "       [ 4510],\n",
              "       [ 5885],\n",
              "       [ 4000],\n",
              "       [ 8250],\n",
              "       [ 4040],\n",
              "       [ 6360],\n",
              "       [ 3162],\n",
              "       [ 3510],\n",
              "       [ 3750],\n",
              "       [ 3968],\n",
              "       [ 4900],\n",
              "       [ 2880],\n",
              "       [ 4880],\n",
              "       [ 4920],\n",
              "       [ 4950],\n",
              "       [ 3900],\n",
              "       [ 4500],\n",
              "       [ 1905],\n",
              "       [ 4075],\n",
              "       [ 3500],\n",
              "       [ 6450],\n",
              "       [ 4032],\n",
              "       [ 4400],\n",
              "       [10360],\n",
              "       [ 3400],\n",
              "       [ 6360],\n",
              "       [ 6360],\n",
              "       [ 4500],\n",
              "       [ 2175],\n",
              "       [ 4360],\n",
              "       [ 7770],\n",
              "       [ 6650],\n",
              "       [ 2787],\n",
              "       [ 5500],\n",
              "       [ 5040],\n",
              "       [ 5850],\n",
              "       [ 2610],\n",
              "       [ 2953],\n",
              "       [ 2747],\n",
              "       [ 4410],\n",
              "       [ 4000],\n",
              "       [ 2325],\n",
              "       [ 4600],\n",
              "       [ 3640],\n",
              "       [ 5800],\n",
              "       [ 7000],\n",
              "       [ 4079],\n",
              "       [ 3520],\n",
              "       [ 2145],\n",
              "       [ 4500],\n",
              "       [ 8250],\n",
              "       [ 3450],\n",
              "       [ 4840],\n",
              "       [ 4080],\n",
              "       [ 4046],\n",
              "       [ 4632],\n",
              "       [ 5985],\n",
              "       [ 6060],\n",
              "       [ 3600],\n",
              "       [ 3680],\n",
              "       [ 4040],\n",
              "       [ 5600],\n",
              "       [ 5900],\n",
              "       [ 4992],\n",
              "       [ 4340],\n",
              "       [ 3000],\n",
              "       [ 4320],\n",
              "       [ 3630],\n",
              "       [ 3460],\n",
              "       [ 5400],\n",
              "       [ 4500],\n",
              "       [ 3460],\n",
              "       [ 4100],\n",
              "       [ 6480],\n",
              "       [ 4500],\n",
              "       [ 3960],\n",
              "       [ 4050],\n",
              "       [ 7260],\n",
              "       [ 5500],\n",
              "       [ 3000],\n",
              "       [ 3290],\n",
              "       [ 3816],\n",
              "       [ 8080],\n",
              "       [ 2145],\n",
              "       [ 3780],\n",
              "       [ 3180],\n",
              "       [ 5300],\n",
              "       [ 3180],\n",
              "       [ 7152],\n",
              "       [ 4080],\n",
              "       [ 3850],\n",
              "       [ 2015],\n",
              "       [ 2176],\n",
              "       [ 3350],\n",
              "       [ 3150],\n",
              "       [ 4820],\n",
              "       [ 3420],\n",
              "       [ 3600],\n",
              "       [ 5830],\n",
              "       [ 2856],\n",
              "       [ 8400],\n",
              "       [ 8250],\n",
              "       [ 2520],\n",
              "       [ 6930],\n",
              "       [ 3480],\n",
              "       [ 3600],\n",
              "       [ 4040],\n",
              "       [ 6020],\n",
              "       [ 4050],\n",
              "       [ 3584],\n",
              "       [ 3120],\n",
              "       [ 5450],\n",
              "       [ 3630],\n",
              "       [ 3630],\n",
              "       [ 5640],\n",
              "       [ 3600],\n",
              "       [ 4280],\n",
              "       [ 3570],\n",
              "       [ 3180],\n",
              "       [ 3000],\n",
              "       [ 3520],\n",
              "       [ 5960],\n",
              "       [ 4130],\n",
              "       [ 2850],\n",
              "       [ 2275],\n",
              "       [ 3520],\n",
              "       [ 4500],\n",
              "       [ 4000],\n",
              "       [ 3150],\n",
              "       [ 4500],\n",
              "       [ 4500],\n",
              "       [ 3640],\n",
              "       [ 3850],\n",
              "       [ 4240],\n",
              "       [ 3650],\n",
              "       [ 4600],\n",
              "       [ 2135],\n",
              "       [ 3036],\n",
              "       [ 3990],\n",
              "       [ 7424],\n",
              "       [ 3480],\n",
              "       [ 3600],\n",
              "       [ 3640],\n",
              "       [ 5900],\n",
              "       [ 3120],\n",
              "       [ 7350],\n",
              "       [ 3512],\n",
              "       [ 9500],\n",
              "       [ 5880],\n",
              "       [12944],\n",
              "       [ 4900],\n",
              "       [ 3060],\n",
              "       [ 5320],\n",
              "       [ 2145],\n",
              "       [ 4000],\n",
              "       [ 3185],\n",
              "       [ 3850],\n",
              "       [ 2145],\n",
              "       [ 2610],\n",
              "       [ 1950],\n",
              "       [ 4040],\n",
              "       [ 4785],\n",
              "       [ 3450],\n",
              "       [ 3640],\n",
              "       [ 3500],\n",
              "       [ 4960],\n",
              "       [ 4120],\n",
              "       [ 4750],\n",
              "       [ 3720],\n",
              "       [ 3750],\n",
              "       [ 3100],\n",
              "       [ 3185],\n",
              "       [ 2700],\n",
              "       [ 2145],\n",
              "       [ 4040],\n",
              "       [ 4775],\n",
              "       [ 2500],\n",
              "       [ 3180],\n",
              "       [ 6060],\n",
              "       [ 3480],\n",
              "       [ 3792],\n",
              "       [ 4040],\n",
              "       [ 2145],\n",
              "       [ 5880],\n",
              "       [ 4500],\n",
              "       [ 3930],\n",
              "       [ 3640],\n",
              "       [ 4370],\n",
              "       [ 2684],\n",
              "       [ 4320],\n",
              "       [ 3120],\n",
              "       [ 3450],\n",
              "       [ 3986],\n",
              "       [ 3500],\n",
              "       [ 4095],\n",
              "       [ 1650],\n",
              "       [ 3450],\n",
              "       [ 6750],\n",
              "       [ 9000],\n",
              "       [ 3069],\n",
              "       [ 4500],\n",
              "       [ 5495],\n",
              "       [ 2398],\n",
              "       [ 3000],\n",
              "       [ 3850],\n",
              "       [ 3500],\n",
              "       [ 8100],\n",
              "       [ 4960],\n",
              "       [ 2160],\n",
              "       [ 3090],\n",
              "       [ 4500],\n",
              "       [ 3800],\n",
              "       [ 3090],\n",
              "       [ 3240],\n",
              "       [ 2835],\n",
              "       [ 4600],\n",
              "       [ 5076],\n",
              "       [ 3750],\n",
              "       [ 3630],\n",
              "       [ 8050],\n",
              "       [ 4352],\n",
              "       [ 3000],\n",
              "       [ 5850],\n",
              "       [ 4960],\n",
              "       [ 3600],\n",
              "       [ 3660],\n",
              "       [ 3480],\n",
              "       [ 2700],\n",
              "       [ 3150],\n",
              "       [ 6615],\n",
              "       [ 3040],\n",
              "       [ 3630],\n",
              "       [ 6000],\n",
              "       [ 5400],\n",
              "       [ 5200],\n",
              "       [ 3300],\n",
              "       [ 4350],\n",
              "       [ 2640],\n",
              "       [ 2650],\n",
              "       [ 3960],\n",
              "       [ 6800],\n",
              "       [ 4000],\n",
              "       [ 4000],\n",
              "       [ 3934],\n",
              "       [ 2000],\n",
              "       [ 3630],\n",
              "       [ 2800],\n",
              "       [ 2430],\n",
              "       [ 3480],\n",
              "       [ 4000],\n",
              "       [ 3185],\n",
              "       [ 4000],\n",
              "       [ 2910],\n",
              "       [ 3600],\n",
              "       [ 4400],\n",
              "       [ 3600],\n",
              "       [ 2880],\n",
              "       [ 3180],\n",
              "       [ 3000],\n",
              "       [ 4400],\n",
              "       [ 3000],\n",
              "       [ 3210],\n",
              "       [ 3240],\n",
              "       [ 3000],\n",
              "       [ 3500],\n",
              "       [ 4840],\n",
              "       [ 7700],\n",
              "       [ 3635],\n",
              "       [ 2475],\n",
              "       [ 2787],\n",
              "       [ 3264],\n",
              "       [ 3640],\n",
              "       [ 3180],\n",
              "       [ 1836],\n",
              "       [ 3970],\n",
              "       [ 3970],\n",
              "       [ 1950],\n",
              "       [ 5300],\n",
              "       [ 3000],\n",
              "       [ 2400],\n",
              "       [ 3000],\n",
              "       [ 3360],\n",
              "       [ 3420],\n",
              "       [ 1700],\n",
              "       [ 3649],\n",
              "       [ 2990],\n",
              "       [ 3000],\n",
              "       [ 2400],\n",
              "       [ 3620],\n",
              "       [ 2910],\n",
              "       [ 3850]])"
            ]
          },
          "metadata": {},
          "execution_count": 28
        }
      ],
      "source": [
        "y"
      ]
    },
    {
      "cell_type": "code",
      "execution_count": 29,
      "metadata": {
        "colab": {
          "base_uri": "https://localhost:8080/"
        },
        "id": "BxLnse3ZfPFD",
        "outputId": "2b8c7dd4-ceca-4ca3-c989-0020156bba38"
      },
      "outputs": [
        {
          "output_type": "execute_result",
          "data": {
            "text/plain": [
              "(545, 11)"
            ]
          },
          "metadata": {},
          "execution_count": 29
        }
      ],
      "source": [
        "x.shape"
      ]
    },
    {
      "cell_type": "code",
      "execution_count": 30,
      "metadata": {
        "colab": {
          "base_uri": "https://localhost:8080/"
        },
        "id": "MA6vtm80fokS",
        "outputId": "e02cd5d4-db42-441b-a6fc-b7fffd10122f"
      },
      "outputs": [
        {
          "output_type": "execute_result",
          "data": {
            "text/plain": [
              "(545, 1)"
            ]
          },
          "metadata": {},
          "execution_count": 30
        }
      ],
      "source": [
        "y.shape"
      ]
    },
    {
      "cell_type": "markdown",
      "source": [
        "SCALE THE INDEPENDENT VARIABLES"
      ],
      "metadata": {
        "id": "GQsq1-W6lSrC"
      }
    },
    {
      "cell_type": "code",
      "source": [
        "from sklearn import preprocessing\n",
        "min_max_scaler = preprocessing.MinMaxScaler()\n",
        "X_train_minmax = min_max_scaler.fit_transform(S)\n",
        "X_train_minmax"
      ],
      "metadata": {
        "id": "HvWzZOanlc4y",
        "outputId": "f57f2364-3519-4fc7-96db-a84f2b2ab6d5",
        "colab": {
          "base_uri": "https://localhost:8080/"
        }
      },
      "execution_count": 56,
      "outputs": [
        {
          "output_type": "execute_result",
          "data": {
            "text/plain": [
              "array([[0.12419939, 0.2       , 0.        , ..., 0.        , 0.        ,\n",
              "        1.        ],\n",
              "       [0.15065441, 0.2       , 0.        , ..., 0.        , 0.        ,\n",
              "        1.        ],\n",
              "       [0.08382066, 0.2       , 0.        , ..., 0.        , 0.        ,\n",
              "        1.        ],\n",
              "       ...,\n",
              "       [0.27248677, 0.4       , 0.5       , ..., 1.        , 0.33333333,\n",
              "        1.        ],\n",
              "       [0.12280702, 0.4       , 0.        , ..., 0.        , 0.33333333,\n",
              "        1.        ],\n",
              "       [0.33166249, 0.4       , 0.        , ..., 0.        , 0.        ,\n",
              "        0.        ]])"
            ]
          },
          "metadata": {},
          "execution_count": 56
        }
      ]
    },
    {
      "cell_type": "code",
      "source": [
        "df"
      ],
      "metadata": {
        "id": "04nTtJA_ZYlF",
        "colab": {
          "base_uri": "https://localhost:8080/",
          "height": 424
        },
        "outputId": "06ee6fd1-e529-45d1-be78-0aa5f83175a2"
      },
      "execution_count": 33,
      "outputs": [
        {
          "output_type": "execute_result",
          "data": {
            "text/plain": [
              "        price  area mainroad guestroom basement hotwaterheating  \\\n",
              "0    13300000  7420      yes        no       no              no   \n",
              "1    12250000  8960      yes        no       no              no   \n",
              "2    12250000  9960      yes        no      yes              no   \n",
              "3    12215000  7500      yes        no      yes              no   \n",
              "4    11410000  7420      yes       yes      yes              no   \n",
              "..        ...   ...      ...       ...      ...             ...   \n",
              "540   1820000  3000      yes        no      yes              no   \n",
              "541   1767150  2400       no        no       no              no   \n",
              "542   1750000  3620      yes        no       no              no   \n",
              "543   1750000  2910       no        no       no              no   \n",
              "544   1750000  3850      yes        no       no              no   \n",
              "\n",
              "    airconditioning  parking furnishingstatus  \n",
              "0               yes        2        furnished  \n",
              "1               yes        3        furnished  \n",
              "2                no        2   semi-furnished  \n",
              "3               yes        3        furnished  \n",
              "4               yes        2        furnished  \n",
              "..              ...      ...              ...  \n",
              "540              no        2      unfurnished  \n",
              "541              no        0   semi-furnished  \n",
              "542              no        0      unfurnished  \n",
              "543              no        0        furnished  \n",
              "544              no        0      unfurnished  \n",
              "\n",
              "[545 rows x 9 columns]"
            ],
            "text/html": [
              "\n",
              "  <div id=\"df-d9e2302f-b973-4678-9093-b78df45b877d\">\n",
              "    <div class=\"colab-df-container\">\n",
              "      <div>\n",
              "<style scoped>\n",
              "    .dataframe tbody tr th:only-of-type {\n",
              "        vertical-align: middle;\n",
              "    }\n",
              "\n",
              "    .dataframe tbody tr th {\n",
              "        vertical-align: top;\n",
              "    }\n",
              "\n",
              "    .dataframe thead th {\n",
              "        text-align: right;\n",
              "    }\n",
              "</style>\n",
              "<table border=\"1\" class=\"dataframe\">\n",
              "  <thead>\n",
              "    <tr style=\"text-align: right;\">\n",
              "      <th></th>\n",
              "      <th>price</th>\n",
              "      <th>area</th>\n",
              "      <th>mainroad</th>\n",
              "      <th>guestroom</th>\n",
              "      <th>basement</th>\n",
              "      <th>hotwaterheating</th>\n",
              "      <th>airconditioning</th>\n",
              "      <th>parking</th>\n",
              "      <th>furnishingstatus</th>\n",
              "    </tr>\n",
              "  </thead>\n",
              "  <tbody>\n",
              "    <tr>\n",
              "      <th>0</th>\n",
              "      <td>13300000</td>\n",
              "      <td>7420</td>\n",
              "      <td>yes</td>\n",
              "      <td>no</td>\n",
              "      <td>no</td>\n",
              "      <td>no</td>\n",
              "      <td>yes</td>\n",
              "      <td>2</td>\n",
              "      <td>furnished</td>\n",
              "    </tr>\n",
              "    <tr>\n",
              "      <th>1</th>\n",
              "      <td>12250000</td>\n",
              "      <td>8960</td>\n",
              "      <td>yes</td>\n",
              "      <td>no</td>\n",
              "      <td>no</td>\n",
              "      <td>no</td>\n",
              "      <td>yes</td>\n",
              "      <td>3</td>\n",
              "      <td>furnished</td>\n",
              "    </tr>\n",
              "    <tr>\n",
              "      <th>2</th>\n",
              "      <td>12250000</td>\n",
              "      <td>9960</td>\n",
              "      <td>yes</td>\n",
              "      <td>no</td>\n",
              "      <td>yes</td>\n",
              "      <td>no</td>\n",
              "      <td>no</td>\n",
              "      <td>2</td>\n",
              "      <td>semi-furnished</td>\n",
              "    </tr>\n",
              "    <tr>\n",
              "      <th>3</th>\n",
              "      <td>12215000</td>\n",
              "      <td>7500</td>\n",
              "      <td>yes</td>\n",
              "      <td>no</td>\n",
              "      <td>yes</td>\n",
              "      <td>no</td>\n",
              "      <td>yes</td>\n",
              "      <td>3</td>\n",
              "      <td>furnished</td>\n",
              "    </tr>\n",
              "    <tr>\n",
              "      <th>4</th>\n",
              "      <td>11410000</td>\n",
              "      <td>7420</td>\n",
              "      <td>yes</td>\n",
              "      <td>yes</td>\n",
              "      <td>yes</td>\n",
              "      <td>no</td>\n",
              "      <td>yes</td>\n",
              "      <td>2</td>\n",
              "      <td>furnished</td>\n",
              "    </tr>\n",
              "    <tr>\n",
              "      <th>...</th>\n",
              "      <td>...</td>\n",
              "      <td>...</td>\n",
              "      <td>...</td>\n",
              "      <td>...</td>\n",
              "      <td>...</td>\n",
              "      <td>...</td>\n",
              "      <td>...</td>\n",
              "      <td>...</td>\n",
              "      <td>...</td>\n",
              "    </tr>\n",
              "    <tr>\n",
              "      <th>540</th>\n",
              "      <td>1820000</td>\n",
              "      <td>3000</td>\n",
              "      <td>yes</td>\n",
              "      <td>no</td>\n",
              "      <td>yes</td>\n",
              "      <td>no</td>\n",
              "      <td>no</td>\n",
              "      <td>2</td>\n",
              "      <td>unfurnished</td>\n",
              "    </tr>\n",
              "    <tr>\n",
              "      <th>541</th>\n",
              "      <td>1767150</td>\n",
              "      <td>2400</td>\n",
              "      <td>no</td>\n",
              "      <td>no</td>\n",
              "      <td>no</td>\n",
              "      <td>no</td>\n",
              "      <td>no</td>\n",
              "      <td>0</td>\n",
              "      <td>semi-furnished</td>\n",
              "    </tr>\n",
              "    <tr>\n",
              "      <th>542</th>\n",
              "      <td>1750000</td>\n",
              "      <td>3620</td>\n",
              "      <td>yes</td>\n",
              "      <td>no</td>\n",
              "      <td>no</td>\n",
              "      <td>no</td>\n",
              "      <td>no</td>\n",
              "      <td>0</td>\n",
              "      <td>unfurnished</td>\n",
              "    </tr>\n",
              "    <tr>\n",
              "      <th>543</th>\n",
              "      <td>1750000</td>\n",
              "      <td>2910</td>\n",
              "      <td>no</td>\n",
              "      <td>no</td>\n",
              "      <td>no</td>\n",
              "      <td>no</td>\n",
              "      <td>no</td>\n",
              "      <td>0</td>\n",
              "      <td>furnished</td>\n",
              "    </tr>\n",
              "    <tr>\n",
              "      <th>544</th>\n",
              "      <td>1750000</td>\n",
              "      <td>3850</td>\n",
              "      <td>yes</td>\n",
              "      <td>no</td>\n",
              "      <td>no</td>\n",
              "      <td>no</td>\n",
              "      <td>no</td>\n",
              "      <td>0</td>\n",
              "      <td>unfurnished</td>\n",
              "    </tr>\n",
              "  </tbody>\n",
              "</table>\n",
              "<p>545 rows × 9 columns</p>\n",
              "</div>\n",
              "      <button class=\"colab-df-convert\" onclick=\"convertToInteractive('df-d9e2302f-b973-4678-9093-b78df45b877d')\"\n",
              "              title=\"Convert this dataframe to an interactive table.\"\n",
              "              style=\"display:none;\">\n",
              "        \n",
              "  <svg xmlns=\"http://www.w3.org/2000/svg\" height=\"24px\"viewBox=\"0 0 24 24\"\n",
              "       width=\"24px\">\n",
              "    <path d=\"M0 0h24v24H0V0z\" fill=\"none\"/>\n",
              "    <path d=\"M18.56 5.44l.94 2.06.94-2.06 2.06-.94-2.06-.94-.94-2.06-.94 2.06-2.06.94zm-11 1L8.5 8.5l.94-2.06 2.06-.94-2.06-.94L8.5 2.5l-.94 2.06-2.06.94zm10 10l.94 2.06.94-2.06 2.06-.94-2.06-.94-.94-2.06-.94 2.06-2.06.94z\"/><path d=\"M17.41 7.96l-1.37-1.37c-.4-.4-.92-.59-1.43-.59-.52 0-1.04.2-1.43.59L10.3 9.45l-7.72 7.72c-.78.78-.78 2.05 0 2.83L4 21.41c.39.39.9.59 1.41.59.51 0 1.02-.2 1.41-.59l7.78-7.78 2.81-2.81c.8-.78.8-2.07 0-2.86zM5.41 20L4 18.59l7.72-7.72 1.47 1.35L5.41 20z\"/>\n",
              "  </svg>\n",
              "      </button>\n",
              "      \n",
              "  <style>\n",
              "    .colab-df-container {\n",
              "      display:flex;\n",
              "      flex-wrap:wrap;\n",
              "      gap: 12px;\n",
              "    }\n",
              "\n",
              "    .colab-df-convert {\n",
              "      background-color: #E8F0FE;\n",
              "      border: none;\n",
              "      border-radius: 50%;\n",
              "      cursor: pointer;\n",
              "      display: none;\n",
              "      fill: #1967D2;\n",
              "      height: 32px;\n",
              "      padding: 0 0 0 0;\n",
              "      width: 32px;\n",
              "    }\n",
              "\n",
              "    .colab-df-convert:hover {\n",
              "      background-color: #E2EBFA;\n",
              "      box-shadow: 0px 1px 2px rgba(60, 64, 67, 0.3), 0px 1px 3px 1px rgba(60, 64, 67, 0.15);\n",
              "      fill: #174EA6;\n",
              "    }\n",
              "\n",
              "    [theme=dark] .colab-df-convert {\n",
              "      background-color: #3B4455;\n",
              "      fill: #D2E3FC;\n",
              "    }\n",
              "\n",
              "    [theme=dark] .colab-df-convert:hover {\n",
              "      background-color: #434B5C;\n",
              "      box-shadow: 0px 1px 3px 1px rgba(0, 0, 0, 0.15);\n",
              "      filter: drop-shadow(0px 1px 2px rgba(0, 0, 0, 0.3));\n",
              "      fill: #FFFFFF;\n",
              "    }\n",
              "  </style>\n",
              "\n",
              "      <script>\n",
              "        const buttonEl =\n",
              "          document.querySelector('#df-d9e2302f-b973-4678-9093-b78df45b877d button.colab-df-convert');\n",
              "        buttonEl.style.display =\n",
              "          google.colab.kernel.accessAllowed ? 'block' : 'none';\n",
              "\n",
              "        async function convertToInteractive(key) {\n",
              "          const element = document.querySelector('#df-d9e2302f-b973-4678-9093-b78df45b877d');\n",
              "          const dataTable =\n",
              "            await google.colab.kernel.invokeFunction('convertToInteractive',\n",
              "                                                     [key], {});\n",
              "          if (!dataTable) return;\n",
              "\n",
              "          const docLinkHtml = 'Like what you see? Visit the ' +\n",
              "            '<a target=\"_blank\" href=https://colab.research.google.com/notebooks/data_table.ipynb>data table notebook</a>'\n",
              "            + ' to learn more about interactive tables.';\n",
              "          element.innerHTML = '';\n",
              "          dataTable['output_type'] = 'display_data';\n",
              "          await google.colab.output.renderOutput(dataTable, element);\n",
              "          const docLink = document.createElement('div');\n",
              "          docLink.innerHTML = docLinkHtml;\n",
              "          element.appendChild(docLink);\n",
              "        }\n",
              "      </script>\n",
              "    </div>\n",
              "  </div>\n",
              "  "
            ]
          },
          "metadata": {},
          "execution_count": 33
        }
      ]
    },
    {
      "cell_type": "code",
      "source": [
        "x"
      ],
      "metadata": {
        "colab": {
          "base_uri": "https://localhost:8080/"
        },
        "id": "xDgk0FIvZiAY",
        "outputId": "0f95f244-8aca-492b-bc24-9be7a8ba10d1"
      },
      "execution_count": 34,
      "outputs": [
        {
          "output_type": "execute_result",
          "data": {
            "text/plain": [
              "array([[7420, 4, 2, ..., 'yes', 2, 'furnished'],\n",
              "       [8960, 4, 4, ..., 'yes', 3, 'furnished'],\n",
              "       [9960, 3, 2, ..., 'no', 2, 'semi-furnished'],\n",
              "       ...,\n",
              "       [3620, 2, 1, ..., 'no', 0, 'unfurnished'],\n",
              "       [2910, 3, 1, ..., 'no', 0, 'furnished'],\n",
              "       [3850, 3, 1, ..., 'no', 0, 'unfurnished']], dtype=object)"
            ]
          },
          "metadata": {},
          "execution_count": 34
        }
      ]
    },
    {
      "cell_type": "code",
      "execution_count": 35,
      "metadata": {
        "id": "ghRXrbJ8gIRS"
      },
      "outputs": [],
      "source": [
        "from sklearn.preprocessing import OneHotEncoder,LabelEncoder\n",
        "one = OneHotEncoder()\n",
        "lb=LabelEncoder()\n",
        "x[:,4] = lb.fit_transform(x[:,4])\n",
        "x[:,5] = lb.fit_transform(x[:,5])\n",
        "x[:,6] = lb.fit_transform(x[:,6])\n",
        "x[:,7] = lb.fit_transform(x[:,7])\n",
        "x[:,8] = lb.fit_transform(x[:,8])\n",
        "x[:,10] = lb.fit_transform(x[:,10])"
      ]
    },
    {
      "cell_type": "code",
      "execution_count": 36,
      "metadata": {
        "colab": {
          "base_uri": "https://localhost:8080/"
        },
        "id": "ejR6DibAuXX9",
        "outputId": "cc0c9712-c502-4026-d952-b654afdf3617"
      },
      "outputs": [
        {
          "output_type": "execute_result",
          "data": {
            "text/plain": [
              "array([7420, 4, 2, 3, 1, 0, 0, 0, 1, 2, 0], dtype=object)"
            ]
          },
          "metadata": {},
          "execution_count": 36
        }
      ],
      "source": [
        "x[0]"
      ]
    },
    {
      "cell_type": "code",
      "execution_count": 37,
      "metadata": {
        "id": "3hzhK66yhYMU"
      },
      "outputs": [],
      "source": [
        "x=np.delete(x,3,axis=1)"
      ]
    },
    {
      "cell_type": "markdown",
      "metadata": {
        "id": "XyRnL994nycO"
      },
      "source": [
        "SPLIT THE DATA INTO TRAINING AND TESTING"
      ]
    },
    {
      "cell_type": "code",
      "execution_count": 38,
      "metadata": {
        "id": "dOg_zflzlKbL"
      },
      "outputs": [],
      "source": [
        "from sklearn.model_selection import train_test_split\n",
        "x_train,x_test,y_train,y_test=train_test_split(x,y,test_size=0.2,random_state=0)"
      ]
    },
    {
      "cell_type": "code",
      "execution_count": 39,
      "metadata": {
        "id": "VwzIyYtgoPzv",
        "colab": {
          "base_uri": "https://localhost:8080/"
        },
        "outputId": "63c6d07e-eeff-468d-9014-92bc825fdc34"
      },
      "outputs": [
        {
          "output_type": "execute_result",
          "data": {
            "text/plain": [
              "(436, 10)"
            ]
          },
          "metadata": {},
          "execution_count": 39
        }
      ],
      "source": [
        "x_train.shape"
      ]
    },
    {
      "cell_type": "code",
      "execution_count": 40,
      "metadata": {
        "id": "JZ69bBV4oxmf",
        "colab": {
          "base_uri": "https://localhost:8080/"
        },
        "outputId": "7c50e9f6-3747-4859-c64a-7ca50e023ead"
      },
      "outputs": [
        {
          "output_type": "execute_result",
          "data": {
            "text/plain": [
              "(109, 10)"
            ]
          },
          "metadata": {},
          "execution_count": 40
        }
      ],
      "source": [
        "x_test.shape"
      ]
    },
    {
      "cell_type": "code",
      "execution_count": 41,
      "metadata": {
        "id": "OE0bqcqdo1jJ",
        "colab": {
          "base_uri": "https://localhost:8080/"
        },
        "outputId": "ae223fae-15ff-4747-edbf-77f4c12bd043"
      },
      "outputs": [
        {
          "output_type": "execute_result",
          "data": {
            "text/plain": [
              "(436, 1)"
            ]
          },
          "metadata": {},
          "execution_count": 41
        }
      ],
      "source": [
        "y_train.shape"
      ]
    },
    {
      "cell_type": "code",
      "execution_count": 42,
      "metadata": {
        "id": "F_rIRzmjo8yF",
        "colab": {
          "base_uri": "https://localhost:8080/"
        },
        "outputId": "4bfa88f1-1dae-4385-8f2b-0007551734bf"
      },
      "outputs": [
        {
          "output_type": "execute_result",
          "data": {
            "text/plain": [
              "(109, 1)"
            ]
          },
          "metadata": {},
          "execution_count": 42
        }
      ],
      "source": [
        "y_test.shape"
      ]
    },
    {
      "cell_type": "code",
      "source": [
        "x"
      ],
      "metadata": {
        "id": "0qmxiacDQfGe",
        "colab": {
          "base_uri": "https://localhost:8080/"
        },
        "outputId": "8eec14a4-09b3-45d2-ee4e-ae93d9e75017"
      },
      "execution_count": 43,
      "outputs": [
        {
          "output_type": "execute_result",
          "data": {
            "text/plain": [
              "array([[7420, 4, 2, ..., 1, 2, 0],\n",
              "       [8960, 4, 4, ..., 1, 3, 0],\n",
              "       [9960, 3, 2, ..., 0, 2, 1],\n",
              "       ...,\n",
              "       [3620, 2, 1, ..., 0, 0, 2],\n",
              "       [2910, 3, 1, ..., 0, 0, 0],\n",
              "       [3850, 3, 1, ..., 0, 0, 2]], dtype=object)"
            ]
          },
          "metadata": {},
          "execution_count": 43
        }
      ]
    },
    {
      "cell_type": "code",
      "source": [
        "y"
      ],
      "metadata": {
        "id": "u1vJpg6KQhrv",
        "colab": {
          "base_uri": "https://localhost:8080/"
        },
        "outputId": "606af3b0-64cc-49b1-af5c-431993ac0f6b"
      },
      "execution_count": 44,
      "outputs": [
        {
          "output_type": "execute_result",
          "data": {
            "text/plain": [
              "array([[ 7420],\n",
              "       [ 8960],\n",
              "       [ 9960],\n",
              "       [ 7500],\n",
              "       [ 7420],\n",
              "       [ 7500],\n",
              "       [ 8580],\n",
              "       [16200],\n",
              "       [ 8100],\n",
              "       [ 5750],\n",
              "       [13200],\n",
              "       [ 6000],\n",
              "       [ 6550],\n",
              "       [ 3500],\n",
              "       [ 7800],\n",
              "       [ 6000],\n",
              "       [ 6600],\n",
              "       [ 8500],\n",
              "       [ 4600],\n",
              "       [ 6420],\n",
              "       [ 4320],\n",
              "       [ 7155],\n",
              "       [ 8050],\n",
              "       [ 4560],\n",
              "       [ 8800],\n",
              "       [ 6540],\n",
              "       [ 6000],\n",
              "       [ 8875],\n",
              "       [ 7950],\n",
              "       [ 5500],\n",
              "       [ 7475],\n",
              "       [ 7000],\n",
              "       [ 4880],\n",
              "       [ 5960],\n",
              "       [ 6840],\n",
              "       [ 7000],\n",
              "       [ 7482],\n",
              "       [ 9000],\n",
              "       [ 6000],\n",
              "       [ 6000],\n",
              "       [ 6550],\n",
              "       [ 6360],\n",
              "       [ 6480],\n",
              "       [ 6000],\n",
              "       [ 6000],\n",
              "       [ 6000],\n",
              "       [ 6000],\n",
              "       [ 6600],\n",
              "       [ 4300],\n",
              "       [ 7440],\n",
              "       [ 7440],\n",
              "       [ 6325],\n",
              "       [ 6000],\n",
              "       [ 5150],\n",
              "       [ 6000],\n",
              "       [ 6000],\n",
              "       [11440],\n",
              "       [ 9000],\n",
              "       [ 7680],\n",
              "       [ 6000],\n",
              "       [ 6000],\n",
              "       [ 8880],\n",
              "       [ 6240],\n",
              "       [ 6360],\n",
              "       [11175],\n",
              "       [ 8880],\n",
              "       [13200],\n",
              "       [ 7700],\n",
              "       [ 6000],\n",
              "       [12090],\n",
              "       [ 4000],\n",
              "       [ 6000],\n",
              "       [ 5020],\n",
              "       [ 6600],\n",
              "       [ 4040],\n",
              "       [ 4260],\n",
              "       [ 6420],\n",
              "       [ 6500],\n",
              "       [ 5700],\n",
              "       [ 6000],\n",
              "       [ 6000],\n",
              "       [ 4000],\n",
              "       [10500],\n",
              "       [ 6000],\n",
              "       [ 3760],\n",
              "       [ 8250],\n",
              "       [ 6670],\n",
              "       [ 3960],\n",
              "       [ 7410],\n",
              "       [ 8580],\n",
              "       [ 5000],\n",
              "       [ 6750],\n",
              "       [ 4800],\n",
              "       [ 7200],\n",
              "       [ 6000],\n",
              "       [ 4100],\n",
              "       [ 9000],\n",
              "       [ 6400],\n",
              "       [ 6600],\n",
              "       [ 6000],\n",
              "       [ 6600],\n",
              "       [ 5500],\n",
              "       [ 5500],\n",
              "       [ 6350],\n",
              "       [ 5500],\n",
              "       [ 4500],\n",
              "       [ 5450],\n",
              "       [ 6420],\n",
              "       [ 3240],\n",
              "       [ 6615],\n",
              "       [ 6600],\n",
              "       [ 8372],\n",
              "       [ 4300],\n",
              "       [ 9620],\n",
              "       [ 6800],\n",
              "       [ 8000],\n",
              "       [ 6900],\n",
              "       [ 3700],\n",
              "       [ 6420],\n",
              "       [ 7020],\n",
              "       [ 6540],\n",
              "       [ 7231],\n",
              "       [ 6254],\n",
              "       [ 7320],\n",
              "       [ 6525],\n",
              "       [15600],\n",
              "       [ 7160],\n",
              "       [ 6500],\n",
              "       [ 5500],\n",
              "       [11460],\n",
              "       [ 4800],\n",
              "       [ 5828],\n",
              "       [ 5200],\n",
              "       [ 4800],\n",
              "       [ 7000],\n",
              "       [ 6000],\n",
              "       [ 5400],\n",
              "       [ 4640],\n",
              "       [ 5000],\n",
              "       [ 6360],\n",
              "       [ 5800],\n",
              "       [ 6660],\n",
              "       [10500],\n",
              "       [ 4800],\n",
              "       [ 4700],\n",
              "       [ 5000],\n",
              "       [10500],\n",
              "       [ 5500],\n",
              "       [ 6360],\n",
              "       [ 6600],\n",
              "       [ 5136],\n",
              "       [ 4400],\n",
              "       [ 5400],\n",
              "       [ 3300],\n",
              "       [ 3650],\n",
              "       [ 6100],\n",
              "       [ 6900],\n",
              "       [ 2817],\n",
              "       [ 7980],\n",
              "       [ 3150],\n",
              "       [ 6210],\n",
              "       [ 6100],\n",
              "       [ 6600],\n",
              "       [ 6825],\n",
              "       [ 6710],\n",
              "       [ 6450],\n",
              "       [ 7800],\n",
              "       [ 4600],\n",
              "       [ 4260],\n",
              "       [ 6540],\n",
              "       [ 5500],\n",
              "       [10269],\n",
              "       [ 8400],\n",
              "       [ 5300],\n",
              "       [ 3800],\n",
              "       [ 9800],\n",
              "       [ 8520],\n",
              "       [ 6050],\n",
              "       [ 7085],\n",
              "       [ 3180],\n",
              "       [ 4500],\n",
              "       [ 7200],\n",
              "       [ 3410],\n",
              "       [ 7980],\n",
              "       [ 3000],\n",
              "       [ 3000],\n",
              "       [11410],\n",
              "       [ 6100],\n",
              "       [ 5720],\n",
              "       [ 3540],\n",
              "       [ 7600],\n",
              "       [10700],\n",
              "       [ 6600],\n",
              "       [ 4800],\n",
              "       [ 8150],\n",
              "       [ 4410],\n",
              "       [ 7686],\n",
              "       [ 2800],\n",
              "       [ 5948],\n",
              "       [ 4200],\n",
              "       [ 4520],\n",
              "       [ 4095],\n",
              "       [ 4120],\n",
              "       [ 5400],\n",
              "       [ 4770],\n",
              "       [ 6300],\n",
              "       [ 5800],\n",
              "       [ 3000],\n",
              "       [ 2970],\n",
              "       [ 6720],\n",
              "       [ 4646],\n",
              "       [12900],\n",
              "       [ 3420],\n",
              "       [ 4995],\n",
              "       [ 4350],\n",
              "       [ 4160],\n",
              "       [ 6040],\n",
              "       [ 6862],\n",
              "       [ 4815],\n",
              "       [ 7000],\n",
              "       [ 8100],\n",
              "       [ 3420],\n",
              "       [ 9166],\n",
              "       [ 6321],\n",
              "       [10240],\n",
              "       [ 6440],\n",
              "       [ 5170],\n",
              "       [ 6000],\n",
              "       [ 3630],\n",
              "       [ 9667],\n",
              "       [ 5400],\n",
              "       [ 4320],\n",
              "       [ 3745],\n",
              "       [ 4160],\n",
              "       [ 3880],\n",
              "       [ 5680],\n",
              "       [ 2870],\n",
              "       [ 5010],\n",
              "       [ 4510],\n",
              "       [ 4000],\n",
              "       [ 3840],\n",
              "       [ 3760],\n",
              "       [ 3640],\n",
              "       [ 2550],\n",
              "       [ 5320],\n",
              "       [ 5360],\n",
              "       [ 3520],\n",
              "       [ 8400],\n",
              "       [ 4100],\n",
              "       [ 4990],\n",
              "       [ 3510],\n",
              "       [ 3450],\n",
              "       [ 9860],\n",
              "       [ 3520],\n",
              "       [ 4510],\n",
              "       [ 5885],\n",
              "       [ 4000],\n",
              "       [ 8250],\n",
              "       [ 4040],\n",
              "       [ 6360],\n",
              "       [ 3162],\n",
              "       [ 3510],\n",
              "       [ 3750],\n",
              "       [ 3968],\n",
              "       [ 4900],\n",
              "       [ 2880],\n",
              "       [ 4880],\n",
              "       [ 4920],\n",
              "       [ 4950],\n",
              "       [ 3900],\n",
              "       [ 4500],\n",
              "       [ 1905],\n",
              "       [ 4075],\n",
              "       [ 3500],\n",
              "       [ 6450],\n",
              "       [ 4032],\n",
              "       [ 4400],\n",
              "       [10360],\n",
              "       [ 3400],\n",
              "       [ 6360],\n",
              "       [ 6360],\n",
              "       [ 4500],\n",
              "       [ 2175],\n",
              "       [ 4360],\n",
              "       [ 7770],\n",
              "       [ 6650],\n",
              "       [ 2787],\n",
              "       [ 5500],\n",
              "       [ 5040],\n",
              "       [ 5850],\n",
              "       [ 2610],\n",
              "       [ 2953],\n",
              "       [ 2747],\n",
              "       [ 4410],\n",
              "       [ 4000],\n",
              "       [ 2325],\n",
              "       [ 4600],\n",
              "       [ 3640],\n",
              "       [ 5800],\n",
              "       [ 7000],\n",
              "       [ 4079],\n",
              "       [ 3520],\n",
              "       [ 2145],\n",
              "       [ 4500],\n",
              "       [ 8250],\n",
              "       [ 3450],\n",
              "       [ 4840],\n",
              "       [ 4080],\n",
              "       [ 4046],\n",
              "       [ 4632],\n",
              "       [ 5985],\n",
              "       [ 6060],\n",
              "       [ 3600],\n",
              "       [ 3680],\n",
              "       [ 4040],\n",
              "       [ 5600],\n",
              "       [ 5900],\n",
              "       [ 4992],\n",
              "       [ 4340],\n",
              "       [ 3000],\n",
              "       [ 4320],\n",
              "       [ 3630],\n",
              "       [ 3460],\n",
              "       [ 5400],\n",
              "       [ 4500],\n",
              "       [ 3460],\n",
              "       [ 4100],\n",
              "       [ 6480],\n",
              "       [ 4500],\n",
              "       [ 3960],\n",
              "       [ 4050],\n",
              "       [ 7260],\n",
              "       [ 5500],\n",
              "       [ 3000],\n",
              "       [ 3290],\n",
              "       [ 3816],\n",
              "       [ 8080],\n",
              "       [ 2145],\n",
              "       [ 3780],\n",
              "       [ 3180],\n",
              "       [ 5300],\n",
              "       [ 3180],\n",
              "       [ 7152],\n",
              "       [ 4080],\n",
              "       [ 3850],\n",
              "       [ 2015],\n",
              "       [ 2176],\n",
              "       [ 3350],\n",
              "       [ 3150],\n",
              "       [ 4820],\n",
              "       [ 3420],\n",
              "       [ 3600],\n",
              "       [ 5830],\n",
              "       [ 2856],\n",
              "       [ 8400],\n",
              "       [ 8250],\n",
              "       [ 2520],\n",
              "       [ 6930],\n",
              "       [ 3480],\n",
              "       [ 3600],\n",
              "       [ 4040],\n",
              "       [ 6020],\n",
              "       [ 4050],\n",
              "       [ 3584],\n",
              "       [ 3120],\n",
              "       [ 5450],\n",
              "       [ 3630],\n",
              "       [ 3630],\n",
              "       [ 5640],\n",
              "       [ 3600],\n",
              "       [ 4280],\n",
              "       [ 3570],\n",
              "       [ 3180],\n",
              "       [ 3000],\n",
              "       [ 3520],\n",
              "       [ 5960],\n",
              "       [ 4130],\n",
              "       [ 2850],\n",
              "       [ 2275],\n",
              "       [ 3520],\n",
              "       [ 4500],\n",
              "       [ 4000],\n",
              "       [ 3150],\n",
              "       [ 4500],\n",
              "       [ 4500],\n",
              "       [ 3640],\n",
              "       [ 3850],\n",
              "       [ 4240],\n",
              "       [ 3650],\n",
              "       [ 4600],\n",
              "       [ 2135],\n",
              "       [ 3036],\n",
              "       [ 3990],\n",
              "       [ 7424],\n",
              "       [ 3480],\n",
              "       [ 3600],\n",
              "       [ 3640],\n",
              "       [ 5900],\n",
              "       [ 3120],\n",
              "       [ 7350],\n",
              "       [ 3512],\n",
              "       [ 9500],\n",
              "       [ 5880],\n",
              "       [12944],\n",
              "       [ 4900],\n",
              "       [ 3060],\n",
              "       [ 5320],\n",
              "       [ 2145],\n",
              "       [ 4000],\n",
              "       [ 3185],\n",
              "       [ 3850],\n",
              "       [ 2145],\n",
              "       [ 2610],\n",
              "       [ 1950],\n",
              "       [ 4040],\n",
              "       [ 4785],\n",
              "       [ 3450],\n",
              "       [ 3640],\n",
              "       [ 3500],\n",
              "       [ 4960],\n",
              "       [ 4120],\n",
              "       [ 4750],\n",
              "       [ 3720],\n",
              "       [ 3750],\n",
              "       [ 3100],\n",
              "       [ 3185],\n",
              "       [ 2700],\n",
              "       [ 2145],\n",
              "       [ 4040],\n",
              "       [ 4775],\n",
              "       [ 2500],\n",
              "       [ 3180],\n",
              "       [ 6060],\n",
              "       [ 3480],\n",
              "       [ 3792],\n",
              "       [ 4040],\n",
              "       [ 2145],\n",
              "       [ 5880],\n",
              "       [ 4500],\n",
              "       [ 3930],\n",
              "       [ 3640],\n",
              "       [ 4370],\n",
              "       [ 2684],\n",
              "       [ 4320],\n",
              "       [ 3120],\n",
              "       [ 3450],\n",
              "       [ 3986],\n",
              "       [ 3500],\n",
              "       [ 4095],\n",
              "       [ 1650],\n",
              "       [ 3450],\n",
              "       [ 6750],\n",
              "       [ 9000],\n",
              "       [ 3069],\n",
              "       [ 4500],\n",
              "       [ 5495],\n",
              "       [ 2398],\n",
              "       [ 3000],\n",
              "       [ 3850],\n",
              "       [ 3500],\n",
              "       [ 8100],\n",
              "       [ 4960],\n",
              "       [ 2160],\n",
              "       [ 3090],\n",
              "       [ 4500],\n",
              "       [ 3800],\n",
              "       [ 3090],\n",
              "       [ 3240],\n",
              "       [ 2835],\n",
              "       [ 4600],\n",
              "       [ 5076],\n",
              "       [ 3750],\n",
              "       [ 3630],\n",
              "       [ 8050],\n",
              "       [ 4352],\n",
              "       [ 3000],\n",
              "       [ 5850],\n",
              "       [ 4960],\n",
              "       [ 3600],\n",
              "       [ 3660],\n",
              "       [ 3480],\n",
              "       [ 2700],\n",
              "       [ 3150],\n",
              "       [ 6615],\n",
              "       [ 3040],\n",
              "       [ 3630],\n",
              "       [ 6000],\n",
              "       [ 5400],\n",
              "       [ 5200],\n",
              "       [ 3300],\n",
              "       [ 4350],\n",
              "       [ 2640],\n",
              "       [ 2650],\n",
              "       [ 3960],\n",
              "       [ 6800],\n",
              "       [ 4000],\n",
              "       [ 4000],\n",
              "       [ 3934],\n",
              "       [ 2000],\n",
              "       [ 3630],\n",
              "       [ 2800],\n",
              "       [ 2430],\n",
              "       [ 3480],\n",
              "       [ 4000],\n",
              "       [ 3185],\n",
              "       [ 4000],\n",
              "       [ 2910],\n",
              "       [ 3600],\n",
              "       [ 4400],\n",
              "       [ 3600],\n",
              "       [ 2880],\n",
              "       [ 3180],\n",
              "       [ 3000],\n",
              "       [ 4400],\n",
              "       [ 3000],\n",
              "       [ 3210],\n",
              "       [ 3240],\n",
              "       [ 3000],\n",
              "       [ 3500],\n",
              "       [ 4840],\n",
              "       [ 7700],\n",
              "       [ 3635],\n",
              "       [ 2475],\n",
              "       [ 2787],\n",
              "       [ 3264],\n",
              "       [ 3640],\n",
              "       [ 3180],\n",
              "       [ 1836],\n",
              "       [ 3970],\n",
              "       [ 3970],\n",
              "       [ 1950],\n",
              "       [ 5300],\n",
              "       [ 3000],\n",
              "       [ 2400],\n",
              "       [ 3000],\n",
              "       [ 3360],\n",
              "       [ 3420],\n",
              "       [ 1700],\n",
              "       [ 3649],\n",
              "       [ 2990],\n",
              "       [ 3000],\n",
              "       [ 2400],\n",
              "       [ 3620],\n",
              "       [ 2910],\n",
              "       [ 3850]])"
            ]
          },
          "metadata": {},
          "execution_count": 44
        }
      ]
    },
    {
      "cell_type": "markdown",
      "metadata": {
        "id": "KF5y3UfTpNV8"
      },
      "source": [
        "BUILD THE MODEL"
      ]
    },
    {
      "cell_type": "code",
      "source": [
        "from sklearn.preprocessing import PolynomialFeatures\n",
        "pr=PolynomialFeatures(degree=4)"
      ],
      "metadata": {
        "id": "0aZuqy8j3pg-"
      },
      "execution_count": 45,
      "outputs": []
    },
    {
      "cell_type": "code",
      "source": [
        "xp=pr.fit_transform(x,y)"
      ],
      "metadata": {
        "id": "4Y9bED0TLqIF"
      },
      "execution_count": 46,
      "outputs": []
    },
    {
      "cell_type": "code",
      "source": [
        "xp"
      ],
      "metadata": {
        "id": "JjyMUdl6OooL",
        "colab": {
          "base_uri": "https://localhost:8080/"
        },
        "outputId": "e68e5655-bed4-4a56-ef3e-e3ec8ff58fdb"
      },
      "execution_count": 47,
      "outputs": [
        {
          "output_type": "execute_result",
          "data": {
            "text/plain": [
              "array([[1.00e+00, 7.42e+03, 4.00e+00, ..., 0.00e+00, 0.00e+00, 0.00e+00],\n",
              "       [1.00e+00, 8.96e+03, 4.00e+00, ..., 0.00e+00, 0.00e+00, 0.00e+00],\n",
              "       [1.00e+00, 9.96e+03, 3.00e+00, ..., 4.00e+00, 2.00e+00, 1.00e+00],\n",
              "       ...,\n",
              "       [1.00e+00, 3.62e+03, 2.00e+00, ..., 0.00e+00, 0.00e+00, 1.60e+01],\n",
              "       [1.00e+00, 2.91e+03, 3.00e+00, ..., 0.00e+00, 0.00e+00, 0.00e+00],\n",
              "       [1.00e+00, 3.85e+03, 3.00e+00, ..., 0.00e+00, 0.00e+00, 1.60e+01]])"
            ]
          },
          "metadata": {},
          "execution_count": 47
        }
      ]
    },
    {
      "cell_type": "code",
      "source": [
        "S=x_train"
      ],
      "metadata": {
        "id": "BUmL2pV_2HWH"
      },
      "execution_count": 48,
      "outputs": []
    },
    {
      "cell_type": "code",
      "source": [
        "S1=y_train"
      ],
      "metadata": {
        "id": "dl9nMf642P0x"
      },
      "execution_count": 49,
      "outputs": []
    },
    {
      "cell_type": "code",
      "execution_count": 50,
      "metadata": {
        "id": "J-ZqYSnZpBAs"
      },
      "outputs": [],
      "source": [
        "from sklearn.linear_model import LinearRegression\n",
        "mlr=LinearRegression()\n"
      ]
    },
    {
      "cell_type": "code",
      "source": [
        "mlr.fit(S,S1)"
      ],
      "metadata": {
        "id": "w_DL3ngM_Jdn",
        "colab": {
          "base_uri": "https://localhost:8080/",
          "height": 75
        },
        "outputId": "bd3ea0b8-300f-4173-bd24-7e8cf04f1bda"
      },
      "execution_count": 51,
      "outputs": [
        {
          "output_type": "execute_result",
          "data": {
            "text/plain": [
              "LinearRegression()"
            ],
            "text/html": [
              "<style>#sk-container-id-1 {color: black;background-color: white;}#sk-container-id-1 pre{padding: 0;}#sk-container-id-1 div.sk-toggleable {background-color: white;}#sk-container-id-1 label.sk-toggleable__label {cursor: pointer;display: block;width: 100%;margin-bottom: 0;padding: 0.3em;box-sizing: border-box;text-align: center;}#sk-container-id-1 label.sk-toggleable__label-arrow:before {content: \"▸\";float: left;margin-right: 0.25em;color: #696969;}#sk-container-id-1 label.sk-toggleable__label-arrow:hover:before {color: black;}#sk-container-id-1 div.sk-estimator:hover label.sk-toggleable__label-arrow:before {color: black;}#sk-container-id-1 div.sk-toggleable__content {max-height: 0;max-width: 0;overflow: hidden;text-align: left;background-color: #f0f8ff;}#sk-container-id-1 div.sk-toggleable__content pre {margin: 0.2em;color: black;border-radius: 0.25em;background-color: #f0f8ff;}#sk-container-id-1 input.sk-toggleable__control:checked~div.sk-toggleable__content {max-height: 200px;max-width: 100%;overflow: auto;}#sk-container-id-1 input.sk-toggleable__control:checked~label.sk-toggleable__label-arrow:before {content: \"▾\";}#sk-container-id-1 div.sk-estimator input.sk-toggleable__control:checked~label.sk-toggleable__label {background-color: #d4ebff;}#sk-container-id-1 div.sk-label input.sk-toggleable__control:checked~label.sk-toggleable__label {background-color: #d4ebff;}#sk-container-id-1 input.sk-hidden--visually {border: 0;clip: rect(1px 1px 1px 1px);clip: rect(1px, 1px, 1px, 1px);height: 1px;margin: -1px;overflow: hidden;padding: 0;position: absolute;width: 1px;}#sk-container-id-1 div.sk-estimator {font-family: monospace;background-color: #f0f8ff;border: 1px dotted black;border-radius: 0.25em;box-sizing: border-box;margin-bottom: 0.5em;}#sk-container-id-1 div.sk-estimator:hover {background-color: #d4ebff;}#sk-container-id-1 div.sk-parallel-item::after {content: \"\";width: 100%;border-bottom: 1px solid gray;flex-grow: 1;}#sk-container-id-1 div.sk-label:hover label.sk-toggleable__label {background-color: #d4ebff;}#sk-container-id-1 div.sk-serial::before {content: \"\";position: absolute;border-left: 1px solid gray;box-sizing: border-box;top: 0;bottom: 0;left: 50%;z-index: 0;}#sk-container-id-1 div.sk-serial {display: flex;flex-direction: column;align-items: center;background-color: white;padding-right: 0.2em;padding-left: 0.2em;position: relative;}#sk-container-id-1 div.sk-item {position: relative;z-index: 1;}#sk-container-id-1 div.sk-parallel {display: flex;align-items: stretch;justify-content: center;background-color: white;position: relative;}#sk-container-id-1 div.sk-item::before, #sk-container-id-1 div.sk-parallel-item::before {content: \"\";position: absolute;border-left: 1px solid gray;box-sizing: border-box;top: 0;bottom: 0;left: 50%;z-index: -1;}#sk-container-id-1 div.sk-parallel-item {display: flex;flex-direction: column;z-index: 1;position: relative;background-color: white;}#sk-container-id-1 div.sk-parallel-item:first-child::after {align-self: flex-end;width: 50%;}#sk-container-id-1 div.sk-parallel-item:last-child::after {align-self: flex-start;width: 50%;}#sk-container-id-1 div.sk-parallel-item:only-child::after {width: 0;}#sk-container-id-1 div.sk-dashed-wrapped {border: 1px dashed gray;margin: 0 0.4em 0.5em 0.4em;box-sizing: border-box;padding-bottom: 0.4em;background-color: white;}#sk-container-id-1 div.sk-label label {font-family: monospace;font-weight: bold;display: inline-block;line-height: 1.2em;}#sk-container-id-1 div.sk-label-container {text-align: center;}#sk-container-id-1 div.sk-container {/* jupyter's `normalize.less` sets `[hidden] { display: none; }` but bootstrap.min.css set `[hidden] { display: none !important; }` so we also need the `!important` here to be able to override the default hidden behavior on the sphinx rendered scikit-learn.org. See: https://github.com/scikit-learn/scikit-learn/issues/21755 */display: inline-block !important;position: relative;}#sk-container-id-1 div.sk-text-repr-fallback {display: none;}</style><div id=\"sk-container-id-1\" class=\"sk-top-container\"><div class=\"sk-text-repr-fallback\"><pre>LinearRegression()</pre><b>In a Jupyter environment, please rerun this cell to show the HTML representation or trust the notebook. <br />On GitHub, the HTML representation is unable to render, please try loading this page with nbviewer.org.</b></div><div class=\"sk-container\" hidden><div class=\"sk-item\"><div class=\"sk-estimator sk-toggleable\"><input class=\"sk-toggleable__control sk-hidden--visually\" id=\"sk-estimator-id-1\" type=\"checkbox\" checked><label for=\"sk-estimator-id-1\" class=\"sk-toggleable__label sk-toggleable__label-arrow\">LinearRegression</label><div class=\"sk-toggleable__content\"><pre>LinearRegression()</pre></div></div></div></div></div>"
            ]
          },
          "metadata": {},
          "execution_count": 51
        }
      ]
    },
    {
      "cell_type": "code",
      "execution_count": 52,
      "metadata": {
        "id": "iw0LZkFqpzWQ"
      },
      "outputs": [],
      "source": [
        "ypred=mlr.predict(x_test)\n"
      ]
    },
    {
      "cell_type": "code",
      "source": [
        "ypred"
      ],
      "metadata": {
        "colab": {
          "base_uri": "https://localhost:8080/"
        },
        "id": "bccfej1GhQX_",
        "outputId": "ddfd4781-3bac-441b-d4db-05b77c01a35a"
      },
      "execution_count": 53,
      "outputs": [
        {
          "output_type": "execute_result",
          "data": {
            "text/plain": [
              "array([[ 4000.],\n",
              "       [ 9620.],\n",
              "       [ 3460.],\n",
              "       [13200.],\n",
              "       [ 3660.],\n",
              "       [ 6350.],\n",
              "       [ 3850.],\n",
              "       [ 3480.],\n",
              "       [ 3512.],\n",
              "       [ 9000.],\n",
              "       [ 6000.],\n",
              "       [ 3960.],\n",
              "       [ 3450.],\n",
              "       [ 6060.],\n",
              "       [ 5985.],\n",
              "       [ 2430.],\n",
              "       [ 4900.],\n",
              "       [ 6020.],\n",
              "       [ 3100.],\n",
              "       [ 4500.],\n",
              "       [ 8150.],\n",
              "       [ 6450.],\n",
              "       [ 5000.],\n",
              "       [ 1700.],\n",
              "       [ 6420.],\n",
              "       [ 3150.],\n",
              "       [ 7000.],\n",
              "       [ 5680.],\n",
              "       [ 3300.],\n",
              "       [ 6420.],\n",
              "       [ 4400.],\n",
              "       [ 2275.],\n",
              "       [ 8400.],\n",
              "       [ 4040.],\n",
              "       [ 3120.],\n",
              "       [ 6440.],\n",
              "       [ 6000.],\n",
              "       [ 3036.],\n",
              "       [ 3450.],\n",
              "       [ 2175.],\n",
              "       [ 8500.],\n",
              "       [ 5900.],\n",
              "       [ 5800.],\n",
              "       [ 5495.],\n",
              "       [ 3520.],\n",
              "       [ 6000.],\n",
              "       [ 4160.],\n",
              "       [ 4040.],\n",
              "       [ 4046.],\n",
              "       [ 5700.],\n",
              "       [ 4840.],\n",
              "       [ 9667.],\n",
              "       [ 1650.],\n",
              "       [ 3850.],\n",
              "       [ 5880.],\n",
              "       [ 5720.],\n",
              "       [ 8250.],\n",
              "       [ 4640.],\n",
              "       [ 3600.],\n",
              "       [ 7000.],\n",
              "       [12900.],\n",
              "       [ 6600.],\n",
              "       [ 2135.],\n",
              "       [ 6000.],\n",
              "       [ 2640.],\n",
              "       [ 2817.],\n",
              "       [ 7155.],\n",
              "       [ 4410.],\n",
              "       [ 4500.],\n",
              "       [ 6300.],\n",
              "       [ 2145.],\n",
              "       [ 5500.],\n",
              "       [ 3600.],\n",
              "       [ 4260.],\n",
              "       [ 3780.],\n",
              "       [ 2870.],\n",
              "       [ 3420.],\n",
              "       [ 8580.],\n",
              "       [ 2910.],\n",
              "       [ 4000.],\n",
              "       [ 2145.],\n",
              "       [ 7686.],\n",
              "       [ 4510.],\n",
              "       [ 7152.],\n",
              "       [ 4600.],\n",
              "       [ 3240.],\n",
              "       [ 3420.],\n",
              "       [ 5800.],\n",
              "       [ 3150.],\n",
              "       [ 4075.],\n",
              "       [ 7424.],\n",
              "       [ 9000.],\n",
              "       [ 3640.],\n",
              "       [ 3150.],\n",
              "       [ 2145.],\n",
              "       [ 8960.],\n",
              "       [ 2160.],\n",
              "       [ 6550.],\n",
              "       [ 7770.],\n",
              "       [ 8400.],\n",
              "       [10500.],\n",
              "       [ 3480.],\n",
              "       [ 2787.],\n",
              "       [ 3000.],\n",
              "       [ 6420.],\n",
              "       [ 5200.],\n",
              "       [ 6060.],\n",
              "       [ 4500.],\n",
              "       [ 6100.]])"
            ]
          },
          "metadata": {},
          "execution_count": 53
        }
      ]
    },
    {
      "cell_type": "code",
      "execution_count": 54,
      "metadata": {
        "id": "62JcUdjyqEQz",
        "colab": {
          "base_uri": "https://localhost:8080/"
        },
        "outputId": "cd6a4501-4708-487b-ae84-b092f049109d"
      },
      "outputs": [
        {
          "output_type": "execute_result",
          "data": {
            "text/plain": [
              "array([[ 4000],\n",
              "       [ 9620],\n",
              "       [ 3460],\n",
              "       [13200],\n",
              "       [ 3660],\n",
              "       [ 6350],\n",
              "       [ 3850],\n",
              "       [ 3480],\n",
              "       [ 3512],\n",
              "       [ 9000],\n",
              "       [ 6000],\n",
              "       [ 3960],\n",
              "       [ 3450],\n",
              "       [ 6060],\n",
              "       [ 5985],\n",
              "       [ 2430],\n",
              "       [ 4900],\n",
              "       [ 6020],\n",
              "       [ 3100],\n",
              "       [ 4500],\n",
              "       [ 8150],\n",
              "       [ 6450],\n",
              "       [ 5000],\n",
              "       [ 1700],\n",
              "       [ 6420],\n",
              "       [ 3150],\n",
              "       [ 7000],\n",
              "       [ 5680],\n",
              "       [ 3300],\n",
              "       [ 6420],\n",
              "       [ 4400],\n",
              "       [ 2275],\n",
              "       [ 8400],\n",
              "       [ 4040],\n",
              "       [ 3120],\n",
              "       [ 6440],\n",
              "       [ 6000],\n",
              "       [ 3036],\n",
              "       [ 3450],\n",
              "       [ 2175],\n",
              "       [ 8500],\n",
              "       [ 5900],\n",
              "       [ 5800],\n",
              "       [ 5495],\n",
              "       [ 3520],\n",
              "       [ 6000],\n",
              "       [ 4160],\n",
              "       [ 4040],\n",
              "       [ 4046],\n",
              "       [ 5700],\n",
              "       [ 4840],\n",
              "       [ 9667],\n",
              "       [ 1650],\n",
              "       [ 3850],\n",
              "       [ 5880],\n",
              "       [ 5720],\n",
              "       [ 8250],\n",
              "       [ 4640],\n",
              "       [ 3600],\n",
              "       [ 7000],\n",
              "       [12900],\n",
              "       [ 6600],\n",
              "       [ 2135],\n",
              "       [ 6000],\n",
              "       [ 2640],\n",
              "       [ 2817],\n",
              "       [ 7155],\n",
              "       [ 4410],\n",
              "       [ 4500],\n",
              "       [ 6300],\n",
              "       [ 2145],\n",
              "       [ 5500],\n",
              "       [ 3600],\n",
              "       [ 4260],\n",
              "       [ 3780],\n",
              "       [ 2870],\n",
              "       [ 3420],\n",
              "       [ 8580],\n",
              "       [ 2910],\n",
              "       [ 4000],\n",
              "       [ 2145],\n",
              "       [ 7686],\n",
              "       [ 4510],\n",
              "       [ 7152],\n",
              "       [ 4600],\n",
              "       [ 3240],\n",
              "       [ 3420],\n",
              "       [ 5800],\n",
              "       [ 3150],\n",
              "       [ 4075],\n",
              "       [ 7424],\n",
              "       [ 9000],\n",
              "       [ 3640],\n",
              "       [ 3150],\n",
              "       [ 2145],\n",
              "       [ 8960],\n",
              "       [ 2160],\n",
              "       [ 6550],\n",
              "       [ 7770],\n",
              "       [ 8400],\n",
              "       [10500],\n",
              "       [ 3480],\n",
              "       [ 2787],\n",
              "       [ 3000],\n",
              "       [ 6420],\n",
              "       [ 5200],\n",
              "       [ 6060],\n",
              "       [ 4500],\n",
              "       [ 6100]])"
            ]
          },
          "metadata": {},
          "execution_count": 54
        }
      ],
      "source": [
        "y_test"
      ]
    },
    {
      "cell_type": "markdown",
      "source": [
        "MEASURE THE PERFORMANCE USING METRICS"
      ],
      "metadata": {
        "id": "SFu1E0PIiyj-"
      }
    },
    {
      "cell_type": "code",
      "execution_count": 55,
      "metadata": {
        "id": "AQoPsVP2qEdT",
        "colab": {
          "base_uri": "https://localhost:8080/"
        },
        "outputId": "fb93ac19-e138-409b-90a9-c5673232bc17"
      },
      "outputs": [
        {
          "output_type": "execute_result",
          "data": {
            "text/plain": [
              "1.0"
            ]
          },
          "metadata": {},
          "execution_count": 55
        }
      ],
      "source": [
        "from sklearn.metrics import r2_score\n",
        "acc=r2_score(y_test,ypred)\n",
        "acc"
      ]
    }
  ],
  "metadata": {
    "colab": {
      "provenance": [],
      "include_colab_link": true
    },
    "kernelspec": {
      "display_name": "Python 3",
      "name": "python3"
    },
    "language_info": {
      "name": "python"
    }
  },
  "nbformat": 4,
  "nbformat_minor": 0
}